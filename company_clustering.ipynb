{
  "nbformat": 4,
  "nbformat_minor": 0,
  "metadata": {
    "colab": {
      "name": "company clustering.ipynb",
      "provenance": [],
      "collapsed_sections": [],
      "mount_file_id": "1UhkDmdWiO5tXgBAYH6--EdoHEjl8B7Ho",
      "authorship_tag": "ABX9TyM4mjqwhczB94Cu3DVDu9ZG",
      "include_colab_link": true
    },
    "kernelspec": {
      "name": "python3",
      "display_name": "Python 3"
    },
    "language_info": {
      "name": "python"
    }
  },
  "cells": [
    {
      "cell_type": "markdown",
      "metadata": {
        "id": "view-in-github",
        "colab_type": "text"
      },
      "source": [
        "<a href=\"https://colab.research.google.com/github/ydv1412/comapny_clustering/blob/main/company_clustering.ipynb\" target=\"_parent\"><img src=\"https://colab.research.google.com/assets/colab-badge.svg\" alt=\"Open In Colab\"/></a>"
      ]
    },
    {
      "cell_type": "code",
      "execution_count": 1,
      "metadata": {
        "id": "yoww6Y41pJxi"
      },
      "outputs": [],
      "source": [
        "import pandas as pd\n",
        "import string\n",
        "import re\n",
        "from tqdm import tqdm\n",
        "from bs4 import BeautifulSoup\n",
        "from sklearn.ensemble import GradientBoostingClassifier\n",
        "from sklearn.metrics import accuracy_score\n",
        "from sklearn.metrics import f1_score,confusion_matrix\n",
        "from nltk.corpus import stopwords\n",
        "from sklearn.feature_extraction.text import CountVectorizer\n",
        "from sklearn.tree import DecisionTreeClassifier\n",
        "from sklearn.impute import SimpleImputer\n",
        "from sklearn.model_selection import cross_val_score\n",
        "from sklearn.ensemble import RandomForestClassifier\n",
        "\n",
        "import pandas as pd\n",
        "import numpy as np\n",
        "import matplotlib.pyplot as plt\n",
        "import seaborn as sns\n",
        "from sklearn.feature_selection import chi2\n",
        "\n",
        "from sklearn.neighbors import KNeighborsClassifier\n",
        "from sklearn.model_selection import train_test_split\n",
        "from sklearn.model_selection import GridSearchCV\n",
        "from sklearn.metrics import mean_squared_error\n",
        "from sklearn.metrics import mean_squared_log_error"
      ]
    },
    {
      "cell_type": "code",
      "source": [
        "import nltk                                                                               ### importing nltk for text preprocessing\n",
        "nltk.download('stopwords')   "
      ],
      "metadata": {
        "colab": {
          "base_uri": "https://localhost:8080/"
        },
        "id": "LCO34QcuuhPY",
        "outputId": "abf0aa8b-49cb-45e6-eac5-3fa660748d3d"
      },
      "execution_count": 2,
      "outputs": [
        {
          "output_type": "stream",
          "name": "stdout",
          "text": [
            "[nltk_data] Downloading package stopwords to /root/nltk_data...\n",
            "[nltk_data]   Package stopwords is already up-to-date!\n"
          ]
        },
        {
          "output_type": "execute_result",
          "data": {
            "text/plain": [
              "True"
            ]
          },
          "metadata": {},
          "execution_count": 2
        }
      ]
    },
    {
      "cell_type": "code",
      "source": [
        "df = pd.read_csv('/content/drive/MyDrive/capstone project /capstone 4/company_Description.csv')"
      ],
      "metadata": {
        "id": "fsp3WHV3pqn9"
      },
      "execution_count": null,
      "outputs": []
    },
    {
      "cell_type": "code",
      "source": [
        "from google.colab import drive\n",
        "drive.mount('/content/drive')"
      ],
      "metadata": {
        "colab": {
          "base_uri": "https://localhost:8080/"
        },
        "id": "e31AZhpLHFh_",
        "outputId": "dc11b0fb-93c9-453f-c296-5998d3696a6f"
      },
      "execution_count": 3,
      "outputs": [
        {
          "output_type": "stream",
          "name": "stdout",
          "text": [
            "Drive already mounted at /content/drive; to attempt to forcibly remount, call drive.mount(\"/content/drive\", force_remount=True).\n"
          ]
        }
      ]
    },
    {
      "cell_type": "code",
      "source": [
        "df.info()"
      ],
      "metadata": {
        "colab": {
          "base_uri": "https://localhost:8080/"
        },
        "id": "-3_d6tRTvn5U",
        "outputId": "deb60537-547f-4a89-91b8-21bc94acf9df"
      },
      "execution_count": null,
      "outputs": [
        {
          "output_type": "stream",
          "name": "stdout",
          "text": [
            "<class 'pandas.core.frame.DataFrame'>\n",
            "RangeIndex: 73974 entries, 0 to 73973\n",
            "Data columns (total 3 columns):\n",
            " #   Column            Non-Null Count  Dtype \n",
            "---  ------            --------------  ----- \n",
            " 0   Unnamed: 0        73974 non-null  int64 \n",
            " 1   meta_keywords     23672 non-null  object\n",
            " 2   meta_description  66886 non-null  object\n",
            "dtypes: int64(1), object(2)\n",
            "memory usage: 1.7+ MB\n"
          ]
        }
      ]
    },
    {
      "cell_type": "code",
      "source": [
        "df.head()"
      ],
      "metadata": {
        "colab": {
          "base_uri": "https://localhost:8080/",
          "height": 206
        },
        "id": "DmqpAxwXsnRA",
        "outputId": "916a4375-11dd-46c9-8a15-6ef4cc818972"
      },
      "execution_count": null,
      "outputs": [
        {
          "output_type": "execute_result",
          "data": {
            "text/plain": [
              "   Unnamed: 0                                      meta_keywords  \\\n",
              "0           0  electricians vero beach, vero beach electrical...   \n",
              "1           1  Elias Medical bakersfield ca family doctor med...   \n",
              "2           2  Koops Overhead Doors, Albany Garage Doors, Tro...   \n",
              "3           3                                                NaN   \n",
              "4           4                                                NaN   \n",
              "\n",
              "                                    meta_description  \n",
              "0  Providing quality, reliable full service resid...  \n",
              "1  For the best value in Bakersfield skin care tr...  \n",
              "2  Koops Overhead Doors specializes in the sales,...  \n",
              "3  We would like to welcome you to Midtown Eyecar...  \n",
              "4  Repro Security provide a range of tailor made ...  "
            ],
            "text/html": [
              "\n",
              "  <div id=\"df-18a3ce6e-772a-4d5b-a0cc-0f73bdf53507\">\n",
              "    <div class=\"colab-df-container\">\n",
              "      <div>\n",
              "<style scoped>\n",
              "    .dataframe tbody tr th:only-of-type {\n",
              "        vertical-align: middle;\n",
              "    }\n",
              "\n",
              "    .dataframe tbody tr th {\n",
              "        vertical-align: top;\n",
              "    }\n",
              "\n",
              "    .dataframe thead th {\n",
              "        text-align: right;\n",
              "    }\n",
              "</style>\n",
              "<table border=\"1\" class=\"dataframe\">\n",
              "  <thead>\n",
              "    <tr style=\"text-align: right;\">\n",
              "      <th></th>\n",
              "      <th>Unnamed: 0</th>\n",
              "      <th>meta_keywords</th>\n",
              "      <th>meta_description</th>\n",
              "    </tr>\n",
              "  </thead>\n",
              "  <tbody>\n",
              "    <tr>\n",
              "      <th>0</th>\n",
              "      <td>0</td>\n",
              "      <td>electricians vero beach, vero beach electrical...</td>\n",
              "      <td>Providing quality, reliable full service resid...</td>\n",
              "    </tr>\n",
              "    <tr>\n",
              "      <th>1</th>\n",
              "      <td>1</td>\n",
              "      <td>Elias Medical bakersfield ca family doctor med...</td>\n",
              "      <td>For the best value in Bakersfield skin care tr...</td>\n",
              "    </tr>\n",
              "    <tr>\n",
              "      <th>2</th>\n",
              "      <td>2</td>\n",
              "      <td>Koops Overhead Doors, Albany Garage Doors, Tro...</td>\n",
              "      <td>Koops Overhead Doors specializes in the sales,...</td>\n",
              "    </tr>\n",
              "    <tr>\n",
              "      <th>3</th>\n",
              "      <td>3</td>\n",
              "      <td>NaN</td>\n",
              "      <td>We would like to welcome you to Midtown Eyecar...</td>\n",
              "    </tr>\n",
              "    <tr>\n",
              "      <th>4</th>\n",
              "      <td>4</td>\n",
              "      <td>NaN</td>\n",
              "      <td>Repro Security provide a range of tailor made ...</td>\n",
              "    </tr>\n",
              "  </tbody>\n",
              "</table>\n",
              "</div>\n",
              "      <button class=\"colab-df-convert\" onclick=\"convertToInteractive('df-18a3ce6e-772a-4d5b-a0cc-0f73bdf53507')\"\n",
              "              title=\"Convert this dataframe to an interactive table.\"\n",
              "              style=\"display:none;\">\n",
              "        \n",
              "  <svg xmlns=\"http://www.w3.org/2000/svg\" height=\"24px\"viewBox=\"0 0 24 24\"\n",
              "       width=\"24px\">\n",
              "    <path d=\"M0 0h24v24H0V0z\" fill=\"none\"/>\n",
              "    <path d=\"M18.56 5.44l.94 2.06.94-2.06 2.06-.94-2.06-.94-.94-2.06-.94 2.06-2.06.94zm-11 1L8.5 8.5l.94-2.06 2.06-.94-2.06-.94L8.5 2.5l-.94 2.06-2.06.94zm10 10l.94 2.06.94-2.06 2.06-.94-2.06-.94-.94-2.06-.94 2.06-2.06.94z\"/><path d=\"M17.41 7.96l-1.37-1.37c-.4-.4-.92-.59-1.43-.59-.52 0-1.04.2-1.43.59L10.3 9.45l-7.72 7.72c-.78.78-.78 2.05 0 2.83L4 21.41c.39.39.9.59 1.41.59.51 0 1.02-.2 1.41-.59l7.78-7.78 2.81-2.81c.8-.78.8-2.07 0-2.86zM5.41 20L4 18.59l7.72-7.72 1.47 1.35L5.41 20z\"/>\n",
              "  </svg>\n",
              "      </button>\n",
              "      \n",
              "  <style>\n",
              "    .colab-df-container {\n",
              "      display:flex;\n",
              "      flex-wrap:wrap;\n",
              "      gap: 12px;\n",
              "    }\n",
              "\n",
              "    .colab-df-convert {\n",
              "      background-color: #E8F0FE;\n",
              "      border: none;\n",
              "      border-radius: 50%;\n",
              "      cursor: pointer;\n",
              "      display: none;\n",
              "      fill: #1967D2;\n",
              "      height: 32px;\n",
              "      padding: 0 0 0 0;\n",
              "      width: 32px;\n",
              "    }\n",
              "\n",
              "    .colab-df-convert:hover {\n",
              "      background-color: #E2EBFA;\n",
              "      box-shadow: 0px 1px 2px rgba(60, 64, 67, 0.3), 0px 1px 3px 1px rgba(60, 64, 67, 0.15);\n",
              "      fill: #174EA6;\n",
              "    }\n",
              "\n",
              "    [theme=dark] .colab-df-convert {\n",
              "      background-color: #3B4455;\n",
              "      fill: #D2E3FC;\n",
              "    }\n",
              "\n",
              "    [theme=dark] .colab-df-convert:hover {\n",
              "      background-color: #434B5C;\n",
              "      box-shadow: 0px 1px 3px 1px rgba(0, 0, 0, 0.15);\n",
              "      filter: drop-shadow(0px 1px 2px rgba(0, 0, 0, 0.3));\n",
              "      fill: #FFFFFF;\n",
              "    }\n",
              "  </style>\n",
              "\n",
              "      <script>\n",
              "        const buttonEl =\n",
              "          document.querySelector('#df-18a3ce6e-772a-4d5b-a0cc-0f73bdf53507 button.colab-df-convert');\n",
              "        buttonEl.style.display =\n",
              "          google.colab.kernel.accessAllowed ? 'block' : 'none';\n",
              "\n",
              "        async function convertToInteractive(key) {\n",
              "          const element = document.querySelector('#df-18a3ce6e-772a-4d5b-a0cc-0f73bdf53507');\n",
              "          const dataTable =\n",
              "            await google.colab.kernel.invokeFunction('convertToInteractive',\n",
              "                                                     [key], {});\n",
              "          if (!dataTable) return;\n",
              "\n",
              "          const docLinkHtml = 'Like what you see? Visit the ' +\n",
              "            '<a target=\"_blank\" href=https://colab.research.google.com/notebooks/data_table.ipynb>data table notebook</a>'\n",
              "            + ' to learn more about interactive tables.';\n",
              "          element.innerHTML = '';\n",
              "          dataTable['output_type'] = 'display_data';\n",
              "          await google.colab.output.renderOutput(dataTable, element);\n",
              "          const docLink = document.createElement('div');\n",
              "          docLink.innerHTML = docLinkHtml;\n",
              "          element.appendChild(docLink);\n",
              "        }\n",
              "      </script>\n",
              "    </div>\n",
              "  </div>\n",
              "  "
            ]
          },
          "metadata": {},
          "execution_count": 36
        }
      ]
    },
    {
      "cell_type": "code",
      "source": [
        "stop_words = stopwords.words('english')   "
      ],
      "metadata": {
        "id": "Zhf0W-KqteSs"
      },
      "execution_count": null,
      "outputs": []
    },
    {
      "cell_type": "code",
      "source": [
        "def denocrate(phase):                                                                                               #### function for replacing \"'t\",\"\\ll\" etc with not ,will\n",
        "    phase = re.sub(r\"\\'t\",\" not \",phase)\n",
        "    phase = re.sub(r\"\\'ll\", \" will \",phase)\n",
        "    phase = re.sub(r\"\\'re\" , \" are \" , phase)\n",
        "    phase = re.sub(r\"\\'d\" , \" would \" , phase)\n",
        "    phase = re.sub(r\"\\'m\" , \" am \" , phase)\n",
        "    phase = re.sub(r\"\\'ve\" , \" have \" , phase)\n",
        "    phase = re.sub(r\"\\'s\" , \" is \" , phase)\n",
        "    return phase\n",
        "\n",
        "# def denocrate(phases):\n",
        "#     phase = re.sub(r\"\\'t\",\" not \",phase)\n",
        "#     phase = re.sub(r\"\\'ll\", \" will \",phase)\n",
        "#     phase = re.sub(r\"\\'re\" , \" are \" , phase)\n",
        "#     phase = re.sub(r\"\\'d\" , \" would \" , phase)\n",
        "#     phase = re.sub(r\"\\'m\" , \" am \" , phase)\n",
        "#     phase = re.sub(r\"\\'ve\" , \" have \" , phase)\n",
        "#     phase = re.sub(r\"\\'s\" , \" is \" , phase)\n",
        "#   return texts"
      ],
      "metadata": {
        "id": "A4nB-Zg0uXMs"
      },
      "execution_count": null,
      "outputs": []
    },
    {
      "cell_type": "code",
      "source": [
        "def clean_text(corpus):\n",
        "  texts = []\n",
        "  for text in tqdm(corpus):\n",
        "    soup = BeautifulSoup(text , \"lxml\")                                                                              ###### removing html tags\n",
        "    text = soup.get_text()\n",
        "    text = re.sub(r\"http\\S+\", \"\", text)                                                                              #### removing links \n",
        "    text = denocrate(text)\n",
        "    text = re.sub(\"\\S*\\d\\S*\", \"\", str(text)).strip()                                                                      #### removing words which have deciml numbers\n",
        "    text = re.sub('[^A-Za-z]+', \" \", text).strip()                                                                   ####  removing special characters\n",
        "    text = text.lower()\n",
        "    text = ' '.join(word.lower() for word in text.split() if word.lower() not in stop_words)                          \n",
        "    text = ' '.join(word for word in text.split() if len(word)>2)\n",
        "    texts.append(text)\n",
        "  return texts"
      ],
      "metadata": {
        "id": "JxbDoxLRutNH"
      },
      "execution_count": null,
      "outputs": []
    },
    {
      "cell_type": "code",
      "source": [
        "df2 = pd.DataFrame()"
      ],
      "metadata": {
        "id": "Bwy5rIIwuwKE"
      },
      "execution_count": null,
      "outputs": []
    },
    {
      "cell_type": "code",
      "source": [
        "df2 = df.copy()"
      ],
      "metadata": {
        "id": "MkmmlG6lzuHt"
      },
      "execution_count": null,
      "outputs": []
    },
    {
      "cell_type": "code",
      "source": [
        "df2['meta_keywords'] = df2['meta_keywords'].fillna('')\n",
        "df2['meta_description'] = df2['meta_description'].fillna('')"
      ],
      "metadata": {
        "id": "Pzh6A4Fg1anJ"
      },
      "execution_count": null,
      "outputs": []
    },
    {
      "cell_type": "code",
      "source": [
        "df2.head()"
      ],
      "metadata": {
        "colab": {
          "base_uri": "https://localhost:8080/",
          "height": 206
        },
        "id": "caBKaC8P6aKO",
        "outputId": "ef14f3a7-a30e-4061-bf81-2399afe48bd9"
      },
      "execution_count": null,
      "outputs": [
        {
          "output_type": "execute_result",
          "data": {
            "text/plain": [
              "   Unnamed: 0                                      meta_keywords  \\\n",
              "0           0  electricians vero beach, vero beach electrical...   \n",
              "1           1  Elias Medical bakersfield ca family doctor med...   \n",
              "2           2  Koops Overhead Doors, Albany Garage Doors, Tro...   \n",
              "3           3                                                      \n",
              "4           4                                                      \n",
              "\n",
              "                                    meta_description  \n",
              "0  Providing quality, reliable full service resid...  \n",
              "1  For the best value in Bakersfield skin care tr...  \n",
              "2  Koops Overhead Doors specializes in the sales,...  \n",
              "3  We would like to welcome you to Midtown Eyecar...  \n",
              "4  Repro Security provide a range of tailor made ...  "
            ],
            "text/html": [
              "\n",
              "  <div id=\"df-0ab54fb2-e378-4f4c-b9b1-320d82344b1c\">\n",
              "    <div class=\"colab-df-container\">\n",
              "      <div>\n",
              "<style scoped>\n",
              "    .dataframe tbody tr th:only-of-type {\n",
              "        vertical-align: middle;\n",
              "    }\n",
              "\n",
              "    .dataframe tbody tr th {\n",
              "        vertical-align: top;\n",
              "    }\n",
              "\n",
              "    .dataframe thead th {\n",
              "        text-align: right;\n",
              "    }\n",
              "</style>\n",
              "<table border=\"1\" class=\"dataframe\">\n",
              "  <thead>\n",
              "    <tr style=\"text-align: right;\">\n",
              "      <th></th>\n",
              "      <th>Unnamed: 0</th>\n",
              "      <th>meta_keywords</th>\n",
              "      <th>meta_description</th>\n",
              "    </tr>\n",
              "  </thead>\n",
              "  <tbody>\n",
              "    <tr>\n",
              "      <th>0</th>\n",
              "      <td>0</td>\n",
              "      <td>electricians vero beach, vero beach electrical...</td>\n",
              "      <td>Providing quality, reliable full service resid...</td>\n",
              "    </tr>\n",
              "    <tr>\n",
              "      <th>1</th>\n",
              "      <td>1</td>\n",
              "      <td>Elias Medical bakersfield ca family doctor med...</td>\n",
              "      <td>For the best value in Bakersfield skin care tr...</td>\n",
              "    </tr>\n",
              "    <tr>\n",
              "      <th>2</th>\n",
              "      <td>2</td>\n",
              "      <td>Koops Overhead Doors, Albany Garage Doors, Tro...</td>\n",
              "      <td>Koops Overhead Doors specializes in the sales,...</td>\n",
              "    </tr>\n",
              "    <tr>\n",
              "      <th>3</th>\n",
              "      <td>3</td>\n",
              "      <td></td>\n",
              "      <td>We would like to welcome you to Midtown Eyecar...</td>\n",
              "    </tr>\n",
              "    <tr>\n",
              "      <th>4</th>\n",
              "      <td>4</td>\n",
              "      <td></td>\n",
              "      <td>Repro Security provide a range of tailor made ...</td>\n",
              "    </tr>\n",
              "  </tbody>\n",
              "</table>\n",
              "</div>\n",
              "      <button class=\"colab-df-convert\" onclick=\"convertToInteractive('df-0ab54fb2-e378-4f4c-b9b1-320d82344b1c')\"\n",
              "              title=\"Convert this dataframe to an interactive table.\"\n",
              "              style=\"display:none;\">\n",
              "        \n",
              "  <svg xmlns=\"http://www.w3.org/2000/svg\" height=\"24px\"viewBox=\"0 0 24 24\"\n",
              "       width=\"24px\">\n",
              "    <path d=\"M0 0h24v24H0V0z\" fill=\"none\"/>\n",
              "    <path d=\"M18.56 5.44l.94 2.06.94-2.06 2.06-.94-2.06-.94-.94-2.06-.94 2.06-2.06.94zm-11 1L8.5 8.5l.94-2.06 2.06-.94-2.06-.94L8.5 2.5l-.94 2.06-2.06.94zm10 10l.94 2.06.94-2.06 2.06-.94-2.06-.94-.94-2.06-.94 2.06-2.06.94z\"/><path d=\"M17.41 7.96l-1.37-1.37c-.4-.4-.92-.59-1.43-.59-.52 0-1.04.2-1.43.59L10.3 9.45l-7.72 7.72c-.78.78-.78 2.05 0 2.83L4 21.41c.39.39.9.59 1.41.59.51 0 1.02-.2 1.41-.59l7.78-7.78 2.81-2.81c.8-.78.8-2.07 0-2.86zM5.41 20L4 18.59l7.72-7.72 1.47 1.35L5.41 20z\"/>\n",
              "  </svg>\n",
              "      </button>\n",
              "      \n",
              "  <style>\n",
              "    .colab-df-container {\n",
              "      display:flex;\n",
              "      flex-wrap:wrap;\n",
              "      gap: 12px;\n",
              "    }\n",
              "\n",
              "    .colab-df-convert {\n",
              "      background-color: #E8F0FE;\n",
              "      border: none;\n",
              "      border-radius: 50%;\n",
              "      cursor: pointer;\n",
              "      display: none;\n",
              "      fill: #1967D2;\n",
              "      height: 32px;\n",
              "      padding: 0 0 0 0;\n",
              "      width: 32px;\n",
              "    }\n",
              "\n",
              "    .colab-df-convert:hover {\n",
              "      background-color: #E2EBFA;\n",
              "      box-shadow: 0px 1px 2px rgba(60, 64, 67, 0.3), 0px 1px 3px 1px rgba(60, 64, 67, 0.15);\n",
              "      fill: #174EA6;\n",
              "    }\n",
              "\n",
              "    [theme=dark] .colab-df-convert {\n",
              "      background-color: #3B4455;\n",
              "      fill: #D2E3FC;\n",
              "    }\n",
              "\n",
              "    [theme=dark] .colab-df-convert:hover {\n",
              "      background-color: #434B5C;\n",
              "      box-shadow: 0px 1px 3px 1px rgba(0, 0, 0, 0.15);\n",
              "      filter: drop-shadow(0px 1px 2px rgba(0, 0, 0, 0.3));\n",
              "      fill: #FFFFFF;\n",
              "    }\n",
              "  </style>\n",
              "\n",
              "      <script>\n",
              "        const buttonEl =\n",
              "          document.querySelector('#df-0ab54fb2-e378-4f4c-b9b1-320d82344b1c button.colab-df-convert');\n",
              "        buttonEl.style.display =\n",
              "          google.colab.kernel.accessAllowed ? 'block' : 'none';\n",
              "\n",
              "        async function convertToInteractive(key) {\n",
              "          const element = document.querySelector('#df-0ab54fb2-e378-4f4c-b9b1-320d82344b1c');\n",
              "          const dataTable =\n",
              "            await google.colab.kernel.invokeFunction('convertToInteractive',\n",
              "                                                     [key], {});\n",
              "          if (!dataTable) return;\n",
              "\n",
              "          const docLinkHtml = 'Like what you see? Visit the ' +\n",
              "            '<a target=\"_blank\" href=https://colab.research.google.com/notebooks/data_table.ipynb>data table notebook</a>'\n",
              "            + ' to learn more about interactive tables.';\n",
              "          element.innerHTML = '';\n",
              "          dataTable['output_type'] = 'display_data';\n",
              "          await google.colab.output.renderOutput(dataTable, element);\n",
              "          const docLink = document.createElement('div');\n",
              "          docLink.innerHTML = docLinkHtml;\n",
              "          element.appendChild(docLink);\n",
              "        }\n",
              "      </script>\n",
              "    </div>\n",
              "  </div>\n",
              "  "
            ]
          },
          "metadata": {},
          "execution_count": 43
        }
      ]
    },
    {
      "cell_type": "code",
      "source": [
        "# df2['meta_description'] = df['meta_description'].apply(str)"
      ],
      "metadata": {
        "id": "up_D5JICzxCN"
      },
      "execution_count": null,
      "outputs": []
    },
    {
      "cell_type": "code",
      "source": [
        "# df2['meta_keywords'] = df['meta_keywords'].apply(str)"
      ],
      "metadata": {
        "id": "_RDe6h_bz7q0"
      },
      "execution_count": null,
      "outputs": []
    },
    {
      "cell_type": "code",
      "source": [
        "df2.info()"
      ],
      "metadata": {
        "colab": {
          "base_uri": "https://localhost:8080/"
        },
        "id": "Cm4PVNEq0Cel",
        "outputId": "9c485c88-8ac1-43a4-d17d-41705aa9ec7e"
      },
      "execution_count": null,
      "outputs": [
        {
          "output_type": "stream",
          "name": "stdout",
          "text": [
            "<class 'pandas.core.frame.DataFrame'>\n",
            "RangeIndex: 73974 entries, 0 to 73973\n",
            "Data columns (total 3 columns):\n",
            " #   Column            Non-Null Count  Dtype \n",
            "---  ------            --------------  ----- \n",
            " 0   Unnamed: 0        73974 non-null  int64 \n",
            " 1   meta_keywords     73974 non-null  object\n",
            " 2   meta_description  73974 non-null  object\n",
            "dtypes: int64(1), object(2)\n",
            "memory usage: 1.7+ MB\n"
          ]
        }
      ]
    },
    {
      "cell_type": "code",
      "source": [
        "df2['meta_description'] = clean_text(df2['meta_description'] )\n",
        "df2['meta_keywords'] = clean_text(df2['meta_keywords'] )"
      ],
      "metadata": {
        "colab": {
          "base_uri": "https://localhost:8080/"
        },
        "id": "Ka0pblh50_ic",
        "outputId": "254d721d-4f9b-477d-958e-1b43fc2a5281"
      },
      "execution_count": null,
      "outputs": [
        {
          "output_type": "stream",
          "name": "stderr",
          "text": [
            " 16%|█▋        | 12135/73974 [00:04<00:24, 2551.22it/s]/usr/local/lib/python3.7/dist-packages/bs4/__init__.py:336: UserWarning: \"https://gradnation.americaspromise.org/\" looks like a URL. Beautiful Soup is not an HTTP client. You should probably use an HTTP client like requests to get the document behind the URL, and feed that document to Beautiful Soup.\n",
            "  ' that document to Beautiful Soup.' % decoded_markup\n",
            " 66%|██████▋   | 49143/73974 [00:20<00:09, 2519.02it/s]/usr/local/lib/python3.7/dist-packages/bs4/__init__.py:336: UserWarning: \"https://vimeo.com/getoutevents/review/382139674/4e7aff95fe\" looks like a URL. Beautiful Soup is not an HTTP client. You should probably use an HTTP client like requests to get the document behind the URL, and feed that document to Beautiful Soup.\n",
            "  ' that document to Beautiful Soup.' % decoded_markup\n",
            " 77%|███████▋  | 56820/73974 [00:23<00:06, 2512.36it/s]/usr/local/lib/python3.7/dist-packages/bs4/__init__.py:336: UserWarning: \"http://www.mitservices.net/\" looks like a URL. Beautiful Soup is not an HTTP client. You should probably use an HTTP client like requests to get the document behind the URL, and feed that document to Beautiful Soup.\n",
            "  ' that document to Beautiful Soup.' % decoded_markup\n",
            "100%|██████████| 73974/73974 [00:30<00:00, 2426.62it/s]\n",
            "  8%|▊         | 5788/73974 [00:01<00:16, 4162.02it/s]/usr/local/lib/python3.7/dist-packages/bs4/__init__.py:273: UserWarning: \"b'.'\" looks like a filename, not markup. You should probably open this file and pass the filehandle into Beautiful Soup.\n",
            "  ' Beautiful Soup.' % markup)\n",
            "100%|██████████| 73974/73974 [00:20<00:00, 3691.30it/s]\n"
          ]
        }
      ]
    },
    {
      "cell_type": "code",
      "source": [
        "df2.to_csv('/content/drive/MyDrive/capstone project /capstone 4/cleaned_description.csv')"
      ],
      "metadata": {
        "id": "-HUiKMzvhXB0"
      },
      "execution_count": null,
      "outputs": []
    },
    {
      "cell_type": "code",
      "source": [
        "# df2['meta_description'] = denocrate(df2['meta_description'] )\n",
        "# df2['meta_keywords'] = denocrate(df2['meta_keywords'] )"
      ],
      "metadata": {
        "id": "CR0RKMF80HNO"
      },
      "execution_count": null,
      "outputs": []
    },
    {
      "cell_type": "code",
      "source": [
        "# df2['meta_description'] = df['meta_description'].apply(str)\n",
        "# df2['meta_keywords'] = df['meta_keywords'].apply(str)"
      ],
      "metadata": {
        "id": "x_Rd4toZ0pAN"
      },
      "execution_count": null,
      "outputs": []
    },
    {
      "cell_type": "code",
      "source": [
        "# df2['meta_description'] = clean_text(df2['meta_description'])\n",
        "# df2['meta_keywords'] = clean_text(df2['meta_keywords'] )"
      ],
      "metadata": {
        "id": "Xtxga7LK0P7O"
      },
      "execution_count": null,
      "outputs": []
    },
    {
      "cell_type": "code",
      "source": [
        "df2.info()"
      ],
      "metadata": {
        "colab": {
          "base_uri": "https://localhost:8080/"
        },
        "id": "Pz1tmJsZ0epK",
        "outputId": "0be78e52-2e97-4edf-b9e6-3477d3daa234"
      },
      "execution_count": null,
      "outputs": [
        {
          "output_type": "stream",
          "name": "stdout",
          "text": [
            "<class 'pandas.core.frame.DataFrame'>\n",
            "RangeIndex: 73974 entries, 0 to 73973\n",
            "Data columns (total 3 columns):\n",
            " #   Column            Non-Null Count  Dtype \n",
            "---  ------            --------------  ----- \n",
            " 0   Unnamed: 0        73974 non-null  int64 \n",
            " 1   meta_keywords     73974 non-null  object\n",
            " 2   meta_description  73974 non-null  object\n",
            "dtypes: int64(1), object(2)\n",
            "memory usage: 1.7+ MB\n"
          ]
        }
      ]
    },
    {
      "cell_type": "code",
      "source": [
        "df2['meta_keywords'][:]"
      ],
      "metadata": {
        "colab": {
          "base_uri": "https://localhost:8080/"
        },
        "id": "J1lAhMf_0z6p",
        "outputId": "2e64da65-e8ce-44ec-fd13-0bca509d8d9d"
      },
      "execution_count": null,
      "outputs": [
        {
          "output_type": "execute_result",
          "data": {
            "text/plain": [
              "0         \n",
              "1         \n",
              "2         \n",
              "3         \n",
              "4         \n",
              "        ..\n",
              "73969     \n",
              "73970     \n",
              "73971     \n",
              "73972     \n",
              "73973     \n",
              "Name: meta_keywords, Length: 73974, dtype: object"
            ]
          },
          "metadata": {},
          "execution_count": 78
        }
      ]
    },
    {
      "cell_type": "code",
      "source": [
        "df2.head(10)"
      ],
      "metadata": {
        "colab": {
          "base_uri": "https://localhost:8080/",
          "height": 363
        },
        "id": "5m33dzS-5MFy",
        "outputId": "626147d1-337f-48cd-db8b-29d8bf14ecaf"
      },
      "execution_count": null,
      "outputs": [
        {
          "output_type": "execute_result",
          "data": {
            "text/plain": [
              "   Unnamed: 0                                      meta_keywords  \\\n",
              "0           0  electricians vero beach vero beach electrical ...   \n",
              "1           1  elias medical bakersfield family doctor medici...   \n",
              "2           2  koops overhead doors albany garage doors troy ...   \n",
              "3           3                                                      \n",
              "4           4                                                      \n",
              "5           5                                  wood green timber   \n",
              "6           6  chemicals drilling fluids eco friendly environ...   \n",
              "7           7                                                      \n",
              "8           8  high efficiency boiler plumbing professionals ...   \n",
              "9           9  certified brake metal break metal fabrication ...   \n",
              "\n",
              "                                    meta_description  \n",
              "0  providing quality reliable full service reside...  \n",
              "1  best value bakersfield skin care treatment med...  \n",
              "2  koops overhead doors specializes sales service...  \n",
              "3  would like welcome midtown eyecare professiona...  \n",
              "4  repro security provide range tailor made secur...  \n",
              "5  wood green london timber timber merchants wood...  \n",
              "6  oilfield chemicals production completion pipel...  \n",
              "7                                                     \n",
              "8  plumbing heating ductless air conditioning rad...  \n",
              "9  metal pride inc square foot sheet metal fabric...  "
            ],
            "text/html": [
              "\n",
              "  <div id=\"df-d68ca930-24b4-4107-b0c2-b7e512e55e45\">\n",
              "    <div class=\"colab-df-container\">\n",
              "      <div>\n",
              "<style scoped>\n",
              "    .dataframe tbody tr th:only-of-type {\n",
              "        vertical-align: middle;\n",
              "    }\n",
              "\n",
              "    .dataframe tbody tr th {\n",
              "        vertical-align: top;\n",
              "    }\n",
              "\n",
              "    .dataframe thead th {\n",
              "        text-align: right;\n",
              "    }\n",
              "</style>\n",
              "<table border=\"1\" class=\"dataframe\">\n",
              "  <thead>\n",
              "    <tr style=\"text-align: right;\">\n",
              "      <th></th>\n",
              "      <th>Unnamed: 0</th>\n",
              "      <th>meta_keywords</th>\n",
              "      <th>meta_description</th>\n",
              "    </tr>\n",
              "  </thead>\n",
              "  <tbody>\n",
              "    <tr>\n",
              "      <th>0</th>\n",
              "      <td>0</td>\n",
              "      <td>electricians vero beach vero beach electrical ...</td>\n",
              "      <td>providing quality reliable full service reside...</td>\n",
              "    </tr>\n",
              "    <tr>\n",
              "      <th>1</th>\n",
              "      <td>1</td>\n",
              "      <td>elias medical bakersfield family doctor medici...</td>\n",
              "      <td>best value bakersfield skin care treatment med...</td>\n",
              "    </tr>\n",
              "    <tr>\n",
              "      <th>2</th>\n",
              "      <td>2</td>\n",
              "      <td>koops overhead doors albany garage doors troy ...</td>\n",
              "      <td>koops overhead doors specializes sales service...</td>\n",
              "    </tr>\n",
              "    <tr>\n",
              "      <th>3</th>\n",
              "      <td>3</td>\n",
              "      <td></td>\n",
              "      <td>would like welcome midtown eyecare professiona...</td>\n",
              "    </tr>\n",
              "    <tr>\n",
              "      <th>4</th>\n",
              "      <td>4</td>\n",
              "      <td></td>\n",
              "      <td>repro security provide range tailor made secur...</td>\n",
              "    </tr>\n",
              "    <tr>\n",
              "      <th>5</th>\n",
              "      <td>5</td>\n",
              "      <td>wood green timber</td>\n",
              "      <td>wood green london timber timber merchants wood...</td>\n",
              "    </tr>\n",
              "    <tr>\n",
              "      <th>6</th>\n",
              "      <td>6</td>\n",
              "      <td>chemicals drilling fluids eco friendly environ...</td>\n",
              "      <td>oilfield chemicals production completion pipel...</td>\n",
              "    </tr>\n",
              "    <tr>\n",
              "      <th>7</th>\n",
              "      <td>7</td>\n",
              "      <td></td>\n",
              "      <td></td>\n",
              "    </tr>\n",
              "    <tr>\n",
              "      <th>8</th>\n",
              "      <td>8</td>\n",
              "      <td>high efficiency boiler plumbing professionals ...</td>\n",
              "      <td>plumbing heating ductless air conditioning rad...</td>\n",
              "    </tr>\n",
              "    <tr>\n",
              "      <th>9</th>\n",
              "      <td>9</td>\n",
              "      <td>certified brake metal break metal fabrication ...</td>\n",
              "      <td>metal pride inc square foot sheet metal fabric...</td>\n",
              "    </tr>\n",
              "  </tbody>\n",
              "</table>\n",
              "</div>\n",
              "      <button class=\"colab-df-convert\" onclick=\"convertToInteractive('df-d68ca930-24b4-4107-b0c2-b7e512e55e45')\"\n",
              "              title=\"Convert this dataframe to an interactive table.\"\n",
              "              style=\"display:none;\">\n",
              "        \n",
              "  <svg xmlns=\"http://www.w3.org/2000/svg\" height=\"24px\"viewBox=\"0 0 24 24\"\n",
              "       width=\"24px\">\n",
              "    <path d=\"M0 0h24v24H0V0z\" fill=\"none\"/>\n",
              "    <path d=\"M18.56 5.44l.94 2.06.94-2.06 2.06-.94-2.06-.94-.94-2.06-.94 2.06-2.06.94zm-11 1L8.5 8.5l.94-2.06 2.06-.94-2.06-.94L8.5 2.5l-.94 2.06-2.06.94zm10 10l.94 2.06.94-2.06 2.06-.94-2.06-.94-.94-2.06-.94 2.06-2.06.94z\"/><path d=\"M17.41 7.96l-1.37-1.37c-.4-.4-.92-.59-1.43-.59-.52 0-1.04.2-1.43.59L10.3 9.45l-7.72 7.72c-.78.78-.78 2.05 0 2.83L4 21.41c.39.39.9.59 1.41.59.51 0 1.02-.2 1.41-.59l7.78-7.78 2.81-2.81c.8-.78.8-2.07 0-2.86zM5.41 20L4 18.59l7.72-7.72 1.47 1.35L5.41 20z\"/>\n",
              "  </svg>\n",
              "      </button>\n",
              "      \n",
              "  <style>\n",
              "    .colab-df-container {\n",
              "      display:flex;\n",
              "      flex-wrap:wrap;\n",
              "      gap: 12px;\n",
              "    }\n",
              "\n",
              "    .colab-df-convert {\n",
              "      background-color: #E8F0FE;\n",
              "      border: none;\n",
              "      border-radius: 50%;\n",
              "      cursor: pointer;\n",
              "      display: none;\n",
              "      fill: #1967D2;\n",
              "      height: 32px;\n",
              "      padding: 0 0 0 0;\n",
              "      width: 32px;\n",
              "    }\n",
              "\n",
              "    .colab-df-convert:hover {\n",
              "      background-color: #E2EBFA;\n",
              "      box-shadow: 0px 1px 2px rgba(60, 64, 67, 0.3), 0px 1px 3px 1px rgba(60, 64, 67, 0.15);\n",
              "      fill: #174EA6;\n",
              "    }\n",
              "\n",
              "    [theme=dark] .colab-df-convert {\n",
              "      background-color: #3B4455;\n",
              "      fill: #D2E3FC;\n",
              "    }\n",
              "\n",
              "    [theme=dark] .colab-df-convert:hover {\n",
              "      background-color: #434B5C;\n",
              "      box-shadow: 0px 1px 3px 1px rgba(0, 0, 0, 0.15);\n",
              "      filter: drop-shadow(0px 1px 2px rgba(0, 0, 0, 0.3));\n",
              "      fill: #FFFFFF;\n",
              "    }\n",
              "  </style>\n",
              "\n",
              "      <script>\n",
              "        const buttonEl =\n",
              "          document.querySelector('#df-d68ca930-24b4-4107-b0c2-b7e512e55e45 button.colab-df-convert');\n",
              "        buttonEl.style.display =\n",
              "          google.colab.kernel.accessAllowed ? 'block' : 'none';\n",
              "\n",
              "        async function convertToInteractive(key) {\n",
              "          const element = document.querySelector('#df-d68ca930-24b4-4107-b0c2-b7e512e55e45');\n",
              "          const dataTable =\n",
              "            await google.colab.kernel.invokeFunction('convertToInteractive',\n",
              "                                                     [key], {});\n",
              "          if (!dataTable) return;\n",
              "\n",
              "          const docLinkHtml = 'Like what you see? Visit the ' +\n",
              "            '<a target=\"_blank\" href=https://colab.research.google.com/notebooks/data_table.ipynb>data table notebook</a>'\n",
              "            + ' to learn more about interactive tables.';\n",
              "          element.innerHTML = '';\n",
              "          dataTable['output_type'] = 'display_data';\n",
              "          await google.colab.output.renderOutput(dataTable, element);\n",
              "          const docLink = document.createElement('div');\n",
              "          docLink.innerHTML = docLinkHtml;\n",
              "          element.appendChild(docLink);\n",
              "        }\n",
              "      </script>\n",
              "    </div>\n",
              "  </div>\n",
              "  "
            ]
          },
          "metadata": {},
          "execution_count": 112
        }
      ]
    },
    {
      "cell_type": "code",
      "source": [
        "df2['meta_keywords'][0]"
      ],
      "metadata": {
        "colab": {
          "base_uri": "https://localhost:8080/",
          "height": 52
        },
        "id": "jsKrXv9C5vDs",
        "outputId": "1f335845-3be2-4403-80bd-7b07ef63d87b"
      },
      "execution_count": null,
      "outputs": [
        {
          "output_type": "execute_result",
          "data": {
            "text/plain": [
              "'electricians vero beach vero beach electrical contractors electric contractor electrical contractor lighting control lighting solutions florida electrical business lighting electrical contract vero beach electric commercial lighting control electrician indian river county sebastian pierce'"
            ],
            "application/vnd.google.colaboratory.intrinsic+json": {
              "type": "string"
            }
          },
          "metadata": {},
          "execution_count": 113
        }
      ]
    },
    {
      "cell_type": "code",
      "source": [
        "vectorizer = CountVectorizer(max_df = 0.,min_df = 1000)                                     ### using bag of words to vectorizing processed_reviews\n",
        "X = vectorizer.fit_transform(df2['meta_description'])"
      ],
      "metadata": {
        "id": "3c2DikCZ8jeO"
      },
      "execution_count": null,
      "outputs": []
    },
    {
      "cell_type": "code",
      "source": [
        "X.shape"
      ],
      "metadata": {
        "colab": {
          "base_uri": "https://localhost:8080/"
        },
        "id": "ZxRChBBK89ST",
        "outputId": "b21e7e9c-a665-4181-b914-91cdab13ecda"
      },
      "execution_count": null,
      "outputs": [
        {
          "output_type": "execute_result",
          "data": {
            "text/plain": [
              "(73974, 153)"
            ]
          },
          "metadata": {},
          "execution_count": 115
        }
      ]
    },
    {
      "cell_type": "code",
      "source": [
        "vectorizer.get_feature_names()     "
      ],
      "metadata": {
        "colab": {
          "base_uri": "https://localhost:8080/"
        },
        "id": "ot7GrOcd9BtR",
        "outputId": "8c18aed5-6f04-4eee-d43b-8456b7945866"
      },
      "execution_count": null,
      "outputs": [
        {
          "output_type": "stream",
          "name": "stderr",
          "text": [
            "/usr/local/lib/python3.7/dist-packages/sklearn/utils/deprecation.py:87: FutureWarning: Function get_feature_names is deprecated; get_feature_names is deprecated in 1.0 and will be removed in 1.2. Please use get_feature_names_out instead.\n",
            "  warnings.warn(msg, category=FutureWarning)\n"
          ]
        },
        {
          "output_type": "execute_result",
          "data": {
            "text/plain": [
              "['across',\n",
              " 'affordable',\n",
              " 'agency',\n",
              " 'also',\n",
              " 'area',\n",
              " 'areas',\n",
              " 'available',\n",
              " 'award',\n",
              " 'based',\n",
              " 'best',\n",
              " 'business',\n",
              " 'businesses',\n",
              " 'call',\n",
              " 'care',\n",
              " 'center',\n",
              " 'city',\n",
              " 'clients',\n",
              " 'com',\n",
              " 'commercial',\n",
              " 'community',\n",
              " 'companies',\n",
              " 'company',\n",
              " 'construction',\n",
              " 'consulting',\n",
              " 'contact',\n",
              " 'corporate',\n",
              " 'custom',\n",
              " 'customer',\n",
              " 'customers',\n",
              " 'dedicated',\n",
              " 'design',\n",
              " 'development',\n",
              " 'digital',\n",
              " 'education',\n",
              " 'electrical',\n",
              " 'energy',\n",
              " 'equipment',\n",
              " 'estate',\n",
              " 'every',\n",
              " 'experience',\n",
              " 'experienced',\n",
              " 'experts',\n",
              " 'family',\n",
              " 'financial',\n",
              " 'find',\n",
              " 'firm',\n",
              " 'first',\n",
              " 'food',\n",
              " 'free',\n",
              " 'full',\n",
              " 'gas',\n",
              " 'get',\n",
              " 'global',\n",
              " 'great',\n",
              " 'group',\n",
              " 'health',\n",
              " 'healthcare',\n",
              " 'help',\n",
              " 'high',\n",
              " 'home',\n",
              " 'hospital',\n",
              " 'hotel',\n",
              " 'inc',\n",
              " 'including',\n",
              " 'independent',\n",
              " 'india',\n",
              " 'industrial',\n",
              " 'industries',\n",
              " 'industry',\n",
              " 'information',\n",
              " 'innovative',\n",
              " 'insurance',\n",
              " 'international',\n",
              " 'investment',\n",
              " 'law',\n",
              " 'leading',\n",
              " 'learn',\n",
              " 'legal',\n",
              " 'life',\n",
              " 'local',\n",
              " 'located',\n",
              " 'logistics',\n",
              " 'looking',\n",
              " 'make',\n",
              " 'management',\n",
              " 'marketing',\n",
              " 'media',\n",
              " 'medical',\n",
              " 'need',\n",
              " 'needs',\n",
              " 'new',\n",
              " 'north',\n",
              " 'offer',\n",
              " 'offering',\n",
              " 'offers',\n",
              " 'office',\n",
              " 'oil',\n",
              " 'one',\n",
              " 'online',\n",
              " 'owned',\n",
              " 'people',\n",
              " 'personal',\n",
              " 'planning',\n",
              " 'private',\n",
              " 'production',\n",
              " 'products',\n",
              " 'professional',\n",
              " 'property',\n",
              " 'provide',\n",
              " 'provider',\n",
              " 'provides',\n",
              " 'providing',\n",
              " 'quality',\n",
              " 'range',\n",
              " 'real',\n",
              " 'repair',\n",
              " 'residential',\n",
              " 'sales',\n",
              " 'security',\n",
              " 'sep',\n",
              " 'service',\n",
              " 'services',\n",
              " 'serving',\n",
              " 'shop',\n",
              " 'since',\n",
              " 'small',\n",
              " 'software',\n",
              " 'solar',\n",
              " 'solutions',\n",
              " 'south',\n",
              " 'specializes',\n",
              " 'specializing',\n",
              " 'supply',\n",
              " 'support',\n",
              " 'systems',\n",
              " 'team',\n",
              " 'technology',\n",
              " 'throughout',\n",
              " 'time',\n",
              " 'today',\n",
              " 'top',\n",
              " 'training',\n",
              " 'transportation',\n",
              " 'visit',\n",
              " 'web',\n",
              " 'website',\n",
              " 'welcome',\n",
              " 'well',\n",
              " 'wide',\n",
              " 'winning',\n",
              " 'work',\n",
              " 'world',\n",
              " 'years']"
            ]
          },
          "metadata": {},
          "execution_count": 116
        }
      ]
    },
    {
      "cell_type": "code",
      "source": [
        "bag_of_words = vectorizer.transform(df2['meta_description']).toarray()     "
      ],
      "metadata": {
        "id": "QKuZmy6u9Fm0"
      },
      "execution_count": null,
      "outputs": []
    },
    {
      "cell_type": "code",
      "source": [
        "bag_of_words.shape"
      ],
      "metadata": {
        "colab": {
          "base_uri": "https://localhost:8080/"
        },
        "id": "FyJbiW0I9qkg",
        "outputId": "2c320ee0-38ab-4847-e02c-fb6415039391"
      },
      "execution_count": null,
      "outputs": [
        {
          "output_type": "execute_result",
          "data": {
            "text/plain": [
              "(73974, 153)"
            ]
          },
          "metadata": {},
          "execution_count": 118
        }
      ]
    },
    {
      "cell_type": "code",
      "source": [
        "vectorizer = CountVectorizer(max_df = 0.9,min_df = 500)                                     ### using bag of words to vectorizing processed_reviews\n",
        "Y = vectorizer.fit_transform(df2['meta_keywords'])"
      ],
      "metadata": {
        "id": "T9kzdrQG-G0J"
      },
      "execution_count": null,
      "outputs": []
    },
    {
      "cell_type": "code",
      "source": [
        "Y.shape"
      ],
      "metadata": {
        "colab": {
          "base_uri": "https://localhost:8080/"
        },
        "id": "7jfgUqow_FkS",
        "outputId": "76717e30-8a00-4eec-dad3-ba016c490e35"
      },
      "execution_count": null,
      "outputs": [
        {
          "output_type": "execute_result",
          "data": {
            "text/plain": [
              "(73974, 68)"
            ]
          },
          "metadata": {},
          "execution_count": 126
        }
      ]
    },
    {
      "cell_type": "code",
      "source": [
        "bag_of_words2 = vectorizer.transform(df2['meta_keywords']).toarray()  "
      ],
      "metadata": {
        "id": "FqZgc5jc_Hhq"
      },
      "execution_count": null,
      "outputs": []
    },
    {
      "cell_type": "code",
      "source": [
        "bag_of_words2.shape"
      ],
      "metadata": {
        "colab": {
          "base_uri": "https://localhost:8080/"
        },
        "id": "Y7dTD_VYAV3B",
        "outputId": "f936cb30-3199-437e-baf4-12756ffb86da"
      },
      "execution_count": null,
      "outputs": [
        {
          "output_type": "execute_result",
          "data": {
            "text/plain": [
              "(73974, 68)"
            ]
          },
          "metadata": {},
          "execution_count": 128
        }
      ]
    },
    {
      "cell_type": "code",
      "source": [
        "bag_of_words"
      ],
      "metadata": {
        "colab": {
          "base_uri": "https://localhost:8080/"
        },
        "id": "0wuZKBELEI50",
        "outputId": "f0dbf91e-05ea-46a0-8baa-f3403fe021c7"
      },
      "execution_count": null,
      "outputs": [
        {
          "output_type": "execute_result",
          "data": {
            "text/plain": [
              "array([[0, 0, 0, ..., 0, 0, 0],\n",
              "       [0, 0, 0, ..., 0, 0, 0],\n",
              "       [0, 0, 0, ..., 0, 0, 0],\n",
              "       ...,\n",
              "       [0, 0, 0, ..., 0, 0, 0],\n",
              "       [0, 0, 0, ..., 0, 0, 0],\n",
              "       [0, 0, 0, ..., 1, 0, 0]])"
            ]
          },
          "metadata": {},
          "execution_count": 137
        }
      ]
    },
    {
      "cell_type": "code",
      "source": [
        "df3 = pd.DataFrame(bag_of_words)\n",
        "df4 = pd.DataFrame(bag_of_words2)"
      ],
      "metadata": {
        "id": "HNVc0gFzA3R5"
      },
      "execution_count": null,
      "outputs": []
    },
    {
      "cell_type": "code",
      "source": [
        "type(df3)"
      ],
      "metadata": {
        "colab": {
          "base_uri": "https://localhost:8080/"
        },
        "id": "wpjbIaS6BCOD",
        "outputId": "8bde06b9-a541-4485-ac7c-d665b59d0093"
      },
      "execution_count": null,
      "outputs": [
        {
          "output_type": "execute_result",
          "data": {
            "text/plain": [
              "pandas.core.frame.DataFrame"
            ]
          },
          "metadata": {},
          "execution_count": 139
        }
      ]
    },
    {
      "cell_type": "code",
      "source": [
        "type(df4)"
      ],
      "metadata": {
        "colab": {
          "base_uri": "https://localhost:8080/"
        },
        "id": "4bwii9ZIDrhO",
        "outputId": "880328aa-2af3-4c30-d11d-ad0e09d95aa0"
      },
      "execution_count": null,
      "outputs": [
        {
          "output_type": "execute_result",
          "data": {
            "text/plain": [
              "pandas.core.frame.DataFrame"
            ]
          },
          "metadata": {},
          "execution_count": 140
        }
      ]
    },
    {
      "cell_type": "code",
      "source": [
        "result = pd.concat([df3, df4], axis=1, join='inner')"
      ],
      "metadata": {
        "id": "OmpsOTiXAZ4D"
      },
      "execution_count": null,
      "outputs": []
    },
    {
      "cell_type": "code",
      "source": [
        "result.shape"
      ],
      "metadata": {
        "colab": {
          "base_uri": "https://localhost:8080/"
        },
        "id": "QVYhX8AeAycL",
        "outputId": "98701499-92e6-41f0-c91a-1f03f3a563be"
      },
      "execution_count": null,
      "outputs": [
        {
          "output_type": "execute_result",
          "data": {
            "text/plain": [
              "(73974, 221)"
            ]
          },
          "metadata": {},
          "execution_count": 143
        }
      ]
    },
    {
      "cell_type": "code",
      "source": [
        "result.to_csv('/content/drive/MyDrive/capstone project /capstone 4/company_Description2.csv')"
      ],
      "metadata": {
        "id": "5Wm1xhApFiAO"
      },
      "execution_count": null,
      "outputs": []
    },
    {
      "cell_type": "code",
      "source": [
        "df = pd.read_csv('/content/drive/MyDrive/capstone project /capstone 4/company_Description2.csv')"
      ],
      "metadata": {
        "id": "wPnbfa47GaHB"
      },
      "execution_count": 4,
      "outputs": []
    },
    {
      "cell_type": "code",
      "source": [
        "from sklearn.manifold import TSNE"
      ],
      "metadata": {
        "id": "AjL58Md1HYx1"
      },
      "execution_count": null,
      "outputs": []
    },
    {
      "cell_type": "code",
      "source": [
        "tsne = TSNE()"
      ],
      "metadata": {
        "id": "gji7b8WSHnPp"
      },
      "execution_count": null,
      "outputs": []
    },
    {
      "cell_type": "code",
      "source": [
        "x = tsne.fit_transform(df)"
      ],
      "metadata": {
        "colab": {
          "base_uri": "https://localhost:8080/"
        },
        "id": "uD9Bn3I9Hums",
        "outputId": "18837e5b-e1ab-4fc6-b2f1-7d403c8e2d60"
      },
      "execution_count": null,
      "outputs": [
        {
          "output_type": "stream",
          "name": "stderr",
          "text": [
            "/usr/local/lib/python3.7/dist-packages/sklearn/manifold/_t_sne.py:783: FutureWarning: The default initialization in TSNE will change from 'random' to 'pca' in 1.2.\n",
            "  FutureWarning,\n",
            "/usr/local/lib/python3.7/dist-packages/sklearn/manifold/_t_sne.py:793: FutureWarning: The default learning rate in TSNE will change from 200.0 to 'auto' in 1.2.\n",
            "  FutureWarning,\n"
          ]
        }
      ]
    },
    {
      "cell_type": "code",
      "source": [
        "plt.scatter(x[0],x[1])"
      ],
      "metadata": {
        "colab": {
          "base_uri": "https://localhost:8080/",
          "height": 282
        },
        "id": "eFnf9DgSIICi",
        "outputId": "7c8fb6f4-31eb-482a-ee62-c664988748e1"
      },
      "execution_count": null,
      "outputs": [
        {
          "output_type": "execute_result",
          "data": {
            "text/plain": [
              "<matplotlib.collections.PathCollection at 0x7f327fa578d0>"
            ]
          },
          "metadata": {},
          "execution_count": 16
        },
        {
          "output_type": "display_data",
          "data": {
            "text/plain": [
              "<Figure size 432x288 with 1 Axes>"
            ],
            "image/png": "[encoded data removed]"
          },
          "metadata": {
            "needs_background": "light"
          }
        }
      ]
    },
    {
      "cell_type": "markdown",
      "source": [
        "\n",
        "3\n",
        "\n",
        "You are asking the right question. And you can use kmeans!!! Despite what you may be told by some, you absolutely can cluster with kmeans. There is nothing about binary data that will cause kmeans to fail. However, you might want to consider the following:\n",
        "\n",
        "1 - Zero-mean your matrix by column. This means that you compute the mean row vector, which now becomes a real valued vector, and then subtract that vector from each of the original binary vectors. Your 0/1 binary matrix of 650K row vectors now becomes a real valued matrix of 650K vectors. Note that this DOES NOT change the mutual distance (or similarity) between vectors. It is just a translation operation, applied identically to each vector.\n",
        "\n",
        "2 - Apply the sign function to the matrix. The sign function forces each matrix element to -1 if it is negative, or to +1 otherwise. The result of this transformation, in steps 1 and 2, is that the new matrix is no longer sparse.\n",
        "\n",
        "3 - Now apply kmeans. you can use the Euclidean metric, or experiment with other metrics that you kmeans implementation supports. No need to use a specific binary clustering algorithm. kmeans is simple and clustering 650K vectors should be easily feasible on a decent desktop.\n",
        "\n",
        "4 - If you wish to have binary cluster vectors as the result, then apply the sign function to the final k clusters. You may also convert the final cluster vectors from +1/-1 representation to 0/1 representation (but only after applying the sign function).\n",
        "\n",
        "Things to note:\n",
        "\n",
        "Because you only have 62 dimensional vectors the range of 'similarity' values that are possible between vectors in the binary representation is 62 (corresponding to a Hamming distance between 0 and 62.) Since the range of distances between binary vectors is thus limited, any ranking by hamming distances will necessarily result in numerous ties. As you try to squeeze 650K vectors into only 62 possible distance buckets, the number of vectors per bucket will depend on the number of clusters, but will generally be large and you may need to resolve ties by going back to the original data from which you derived the initial binary matrix.\n"
      ],
      "metadata": {
        "id": "1u8qI3wnKbP-"
      }
    },
    {
      "cell_type": "code",
      "source": [
        "x.shape"
      ],
      "metadata": {
        "colab": {
          "base_uri": "https://localhost:8080/"
        },
        "id": "R2S_x0DbKbyy",
        "outputId": "44059dba-bf2c-4f6b-94d2-fe26ea9fed12"
      },
      "execution_count": null,
      "outputs": [
        {
          "output_type": "execute_result",
          "data": {
            "text/plain": [
              "(73974, 2)"
            ]
          },
          "metadata": {},
          "execution_count": 14
        }
      ]
    },
    {
      "cell_type": "code",
      "source": [
        "from sklearn.cluster import KMeans"
      ],
      "metadata": {
        "id": "ntex4wxgN8b3"
      },
      "execution_count": 4,
      "outputs": []
    },
    {
      "cell_type": "code",
      "source": [
        "df.head()"
      ],
      "metadata": {
        "colab": {
          "base_uri": "https://localhost:8080/",
          "height": 166
        },
        "id": "o0gHpVQmOa1w",
        "outputId": "d483ff69-3695-4011-f437-bdf88c39e823"
      },
      "execution_count": null,
      "outputs": [
        {
          "output_type": "error",
          "ename": "NameError",
          "evalue": "ignored",
          "traceback": [
            "\u001b[0;31m---------------------------------------------------------------------------\u001b[0m",
            "\u001b[0;31mNameError\u001b[0m                                 Traceback (most recent call last)",
            "\u001b[0;32m<ipython-input-4-c42a15b2c7cf>\u001b[0m in \u001b[0;36m<module>\u001b[0;34m()\u001b[0m\n\u001b[0;32m----> 1\u001b[0;31m \u001b[0mdf\u001b[0m\u001b[0;34m.\u001b[0m\u001b[0mhead\u001b[0m\u001b[0;34m(\u001b[0m\u001b[0;34m)\u001b[0m\u001b[0;34m\u001b[0m\u001b[0;34m\u001b[0m\u001b[0m\n\u001b[0m",
            "\u001b[0;31mNameError\u001b[0m: name 'df' is not defined"
          ]
        }
      ]
    },
    {
      "cell_type": "code",
      "source": [
        "numpy_df = df.to_numpy"
      ],
      "metadata": {
        "id": "V-VGprh-RApw",
        "colab": {
          "base_uri": "https://localhost:8080/",
          "height": 166
        },
        "outputId": "f36e6be6-f188-4fff-c24e-cf5083b73398"
      },
      "execution_count": null,
      "outputs": [
        {
          "output_type": "error",
          "ename": "NameError",
          "evalue": "ignored",
          "traceback": [
            "\u001b[0;31m---------------------------------------------------------------------------\u001b[0m",
            "\u001b[0;31mNameError\u001b[0m                                 Traceback (most recent call last)",
            "\u001b[0;32m<ipython-input-5-07c276da943b>\u001b[0m in \u001b[0;36m<module>\u001b[0;34m()\u001b[0m\n\u001b[0;32m----> 1\u001b[0;31m \u001b[0mnumpy_df\u001b[0m \u001b[0;34m=\u001b[0m \u001b[0mdf\u001b[0m\u001b[0;34m.\u001b[0m\u001b[0mto_numpy\u001b[0m\u001b[0;34m\u001b[0m\u001b[0;34m\u001b[0m\u001b[0m\n\u001b[0m",
            "\u001b[0;31mNameError\u001b[0m: name 'df' is not defined"
          ]
        }
      ]
    },
    {
      "cell_type": "code",
      "source": [
        "from sklearn.metrics import silhouette_score"
      ],
      "metadata": {
        "id": "BoPs4mryRYYr"
      },
      "execution_count": 5,
      "outputs": []
    },
    {
      "cell_type": "code",
      "source": [
        "sil = []\n",
        "kmax = 10\n",
        "\n",
        "# dissimilarity would not be defined for a single cluster, thus, minimum number of clusters should be 2\n",
        "for k in range(2, kmax+1):\n",
        "  kmeans = KMeans(n_clusters = k).fit(df)\n",
        "  labels = kmeans.labels_\n",
        "  sil.append(silhouette_score(df, labels, metric = 'euclidean'))"
      ],
      "metadata": {
        "id": "KxzhGchdRaD0"
      },
      "execution_count": null,
      "outputs": []
    },
    {
      "cell_type": "code",
      "source": [
        "import seaborn as sns\n",
        "xs = [i for i in range(2,11)]\n",
        "sns.lineplot(xs,sil)"
      ],
      "metadata": {
        "colab": {
          "base_uri": "https://localhost:8080/",
          "height": 337
        },
        "id": "6aubx2YCSFvk",
        "outputId": "ca5bf26e-4700-4193-cd53-cc60a4668eee"
      },
      "execution_count": null,
      "outputs": [
        {
          "output_type": "stream",
          "name": "stderr",
          "text": [
            "/usr/local/lib/python3.7/dist-packages/seaborn/_decorators.py:43: FutureWarning: Pass the following variables as keyword args: x, y. From version 0.12, the only valid positional argument will be `data`, and passing other arguments without an explicit keyword will result in an error or misinterpretation.\n",
            "  FutureWarning\n"
          ]
        },
        {
          "output_type": "execute_result",
          "data": {
            "text/plain": [
              "<matplotlib.axes._subplots.AxesSubplot at 0x7f327f097f50>"
            ]
          },
          "metadata": {},
          "execution_count": 30
        },
        {
          "output_type": "display_data",
          "data": {
            "text/plain": [
              "<Figure size 432x288 with 1 Axes>"
            ],
            "image/png": "[encoded data removed]"
          },
          "metadata": {
            "needs_background": "light"
          }
        }
      ]
    },
    {
      "cell_type": "code",
      "source": [
        "sil2 = []\n",
        "kmax = 20\n",
        "for k in range(11, kmax+1):\n",
        "  kmeans = KMeans(n_clusters = k).fit(df)\n",
        "  labels = kmeans.labels_\n",
        "  sil.append(silhouette_score(df, labels, metric = 'euclidean'))\n"
      ],
      "metadata": {
        "colab": {
          "base_uri": "https://localhost:8080/",
          "height": 401
        },
        "id": "clruaDSRS0NM",
        "outputId": "a0c9b265-b463-4d51-c33e-f8c26a07285b"
      },
      "execution_count": null,
      "outputs": [
        {
          "output_type": "stream",
          "name": "stderr",
          "text": [
            "/usr/local/lib/python3.7/dist-packages/seaborn/_decorators.py:43: FutureWarning: Pass the following variables as keyword args: x, y. From version 0.12, the only valid positional argument will be `data`, and passing other arguments without an explicit keyword will result in an error or misinterpretation.\n",
            "  FutureWarning\n"
          ]
        },
        {
          "output_type": "error",
          "ename": "ValueError",
          "evalue": "ignored",
          "traceback": [
            "\u001b[0;31m---------------------------------------------------------------------------\u001b[0m",
            "\u001b[0;31mValueError\u001b[0m                                Traceback (most recent call last)",
            "\u001b[0;32m<ipython-input-31-eec10c16e3f6>\u001b[0m in \u001b[0;36m<module>\u001b[0;34m()\u001b[0m\n\u001b[1;32m      6\u001b[0m   \u001b[0msil\u001b[0m\u001b[0;34m.\u001b[0m\u001b[0mappend\u001b[0m\u001b[0;34m(\u001b[0m\u001b[0msilhouette_score\u001b[0m\u001b[0;34m(\u001b[0m\u001b[0mdf\u001b[0m\u001b[0;34m,\u001b[0m \u001b[0mlabels\u001b[0m\u001b[0;34m,\u001b[0m \u001b[0mmetric\u001b[0m \u001b[0;34m=\u001b[0m \u001b[0;34m'euclidean'\u001b[0m\u001b[0;34m)\u001b[0m\u001b[0;34m)\u001b[0m\u001b[0;34m\u001b[0m\u001b[0;34m\u001b[0m\u001b[0m\n\u001b[1;32m      7\u001b[0m \u001b[0mxs2\u001b[0m \u001b[0;34m=\u001b[0m \u001b[0;34m[\u001b[0m\u001b[0mi\u001b[0m \u001b[0;32mfor\u001b[0m \u001b[0mi\u001b[0m \u001b[0;32min\u001b[0m \u001b[0mrange\u001b[0m\u001b[0;34m(\u001b[0m\u001b[0;36m11\u001b[0m\u001b[0;34m,\u001b[0m\u001b[0;36m20\u001b[0m\u001b[0;34m)\u001b[0m\u001b[0;34m]\u001b[0m\u001b[0;34m\u001b[0m\u001b[0;34m\u001b[0m\u001b[0m\n\u001b[0;32m----> 8\u001b[0;31m \u001b[0msns\u001b[0m\u001b[0;34m.\u001b[0m\u001b[0mlineplot\u001b[0m\u001b[0;34m(\u001b[0m\u001b[0mxs2\u001b[0m\u001b[0;34m,\u001b[0m\u001b[0msil2\u001b[0m\u001b[0;34m)\u001b[0m\u001b[0;34m\u001b[0m\u001b[0;34m\u001b[0m\u001b[0m\n\u001b[0m",
            "\u001b[0;32m/usr/local/lib/python3.7/dist-packages/seaborn/_decorators.py\u001b[0m in \u001b[0;36minner_f\u001b[0;34m(*args, **kwargs)\u001b[0m\n\u001b[1;32m     44\u001b[0m             )\n\u001b[1;32m     45\u001b[0m         \u001b[0mkwargs\u001b[0m\u001b[0;34m.\u001b[0m\u001b[0mupdate\u001b[0m\u001b[0;34m(\u001b[0m\u001b[0;34m{\u001b[0m\u001b[0mk\u001b[0m\u001b[0;34m:\u001b[0m \u001b[0marg\u001b[0m \u001b[0;32mfor\u001b[0m \u001b[0mk\u001b[0m\u001b[0;34m,\u001b[0m \u001b[0marg\u001b[0m \u001b[0;32min\u001b[0m \u001b[0mzip\u001b[0m\u001b[0;34m(\u001b[0m\u001b[0msig\u001b[0m\u001b[0;34m.\u001b[0m\u001b[0mparameters\u001b[0m\u001b[0;34m,\u001b[0m \u001b[0margs\u001b[0m\u001b[0;34m)\u001b[0m\u001b[0;34m}\u001b[0m\u001b[0;34m)\u001b[0m\u001b[0;34m\u001b[0m\u001b[0;34m\u001b[0m\u001b[0m\n\u001b[0;32m---> 46\u001b[0;31m         \u001b[0;32mreturn\u001b[0m \u001b[0mf\u001b[0m\u001b[0;34m(\u001b[0m\u001b[0;34m**\u001b[0m\u001b[0mkwargs\u001b[0m\u001b[0;34m)\u001b[0m\u001b[0;34m\u001b[0m\u001b[0;34m\u001b[0m\u001b[0m\n\u001b[0m\u001b[1;32m     47\u001b[0m     \u001b[0;32mreturn\u001b[0m \u001b[0minner_f\u001b[0m\u001b[0;34m\u001b[0m\u001b[0;34m\u001b[0m\u001b[0m\n\u001b[1;32m     48\u001b[0m \u001b[0;34m\u001b[0m\u001b[0m\n",
            "\u001b[0;32m/usr/local/lib/python3.7/dist-packages/seaborn/relational.py\u001b[0m in \u001b[0;36mlineplot\u001b[0;34m(x, y, hue, size, style, data, palette, hue_order, hue_norm, sizes, size_order, size_norm, dashes, markers, style_order, units, estimator, ci, n_boot, seed, sort, err_style, err_kws, legend, ax, **kwargs)\u001b[0m\n\u001b[1;32m    693\u001b[0m         \u001b[0mdata\u001b[0m\u001b[0;34m=\u001b[0m\u001b[0mdata\u001b[0m\u001b[0;34m,\u001b[0m \u001b[0mvariables\u001b[0m\u001b[0;34m=\u001b[0m\u001b[0mvariables\u001b[0m\u001b[0;34m,\u001b[0m\u001b[0;34m\u001b[0m\u001b[0;34m\u001b[0m\u001b[0m\n\u001b[1;32m    694\u001b[0m         \u001b[0mestimator\u001b[0m\u001b[0;34m=\u001b[0m\u001b[0mestimator\u001b[0m\u001b[0;34m,\u001b[0m \u001b[0mci\u001b[0m\u001b[0;34m=\u001b[0m\u001b[0mci\u001b[0m\u001b[0;34m,\u001b[0m \u001b[0mn_boot\u001b[0m\u001b[0;34m=\u001b[0m\u001b[0mn_boot\u001b[0m\u001b[0;34m,\u001b[0m \u001b[0mseed\u001b[0m\u001b[0;34m=\u001b[0m\u001b[0mseed\u001b[0m\u001b[0;34m,\u001b[0m\u001b[0;34m\u001b[0m\u001b[0;34m\u001b[0m\u001b[0m\n\u001b[0;32m--> 695\u001b[0;31m         \u001b[0msort\u001b[0m\u001b[0;34m=\u001b[0m\u001b[0msort\u001b[0m\u001b[0;34m,\u001b[0m \u001b[0merr_style\u001b[0m\u001b[0;34m=\u001b[0m\u001b[0merr_style\u001b[0m\u001b[0;34m,\u001b[0m \u001b[0merr_kws\u001b[0m\u001b[0;34m=\u001b[0m\u001b[0merr_kws\u001b[0m\u001b[0;34m,\u001b[0m \u001b[0mlegend\u001b[0m\u001b[0;34m=\u001b[0m\u001b[0mlegend\u001b[0m\u001b[0;34m,\u001b[0m\u001b[0;34m\u001b[0m\u001b[0;34m\u001b[0m\u001b[0m\n\u001b[0m\u001b[1;32m    696\u001b[0m     )\n\u001b[1;32m    697\u001b[0m \u001b[0;34m\u001b[0m\u001b[0m\n",
            "\u001b[0;32m/usr/local/lib/python3.7/dist-packages/seaborn/relational.py\u001b[0m in \u001b[0;36m__init__\u001b[0;34m(self, data, variables, estimator, ci, n_boot, seed, sort, err_style, err_kws, legend)\u001b[0m\n\u001b[1;32m    365\u001b[0m         )\n\u001b[1;32m    366\u001b[0m \u001b[0;34m\u001b[0m\u001b[0m\n\u001b[0;32m--> 367\u001b[0;31m         \u001b[0msuper\u001b[0m\u001b[0;34m(\u001b[0m\u001b[0;34m)\u001b[0m\u001b[0;34m.\u001b[0m\u001b[0m__init__\u001b[0m\u001b[0;34m(\u001b[0m\u001b[0mdata\u001b[0m\u001b[0;34m=\u001b[0m\u001b[0mdata\u001b[0m\u001b[0;34m,\u001b[0m \u001b[0mvariables\u001b[0m\u001b[0;34m=\u001b[0m\u001b[0mvariables\u001b[0m\u001b[0;34m)\u001b[0m\u001b[0;34m\u001b[0m\u001b[0;34m\u001b[0m\u001b[0m\n\u001b[0m\u001b[1;32m    368\u001b[0m \u001b[0;34m\u001b[0m\u001b[0m\n\u001b[1;32m    369\u001b[0m         \u001b[0mself\u001b[0m\u001b[0;34m.\u001b[0m\u001b[0mestimator\u001b[0m \u001b[0;34m=\u001b[0m \u001b[0mestimator\u001b[0m\u001b[0;34m\u001b[0m\u001b[0;34m\u001b[0m\u001b[0m\n",
            "\u001b[0;32m/usr/local/lib/python3.7/dist-packages/seaborn/_core.py\u001b[0m in \u001b[0;36m__init__\u001b[0;34m(self, data, variables)\u001b[0m\n\u001b[1;32m    603\u001b[0m     \u001b[0;32mdef\u001b[0m \u001b[0m__init__\u001b[0m\u001b[0;34m(\u001b[0m\u001b[0mself\u001b[0m\u001b[0;34m,\u001b[0m \u001b[0mdata\u001b[0m\u001b[0;34m=\u001b[0m\u001b[0;32mNone\u001b[0m\u001b[0;34m,\u001b[0m \u001b[0mvariables\u001b[0m\u001b[0;34m=\u001b[0m\u001b[0;34m{\u001b[0m\u001b[0;34m}\u001b[0m\u001b[0;34m)\u001b[0m\u001b[0;34m:\u001b[0m\u001b[0;34m\u001b[0m\u001b[0;34m\u001b[0m\u001b[0m\n\u001b[1;32m    604\u001b[0m \u001b[0;34m\u001b[0m\u001b[0m\n\u001b[0;32m--> 605\u001b[0;31m         \u001b[0mself\u001b[0m\u001b[0;34m.\u001b[0m\u001b[0massign_variables\u001b[0m\u001b[0;34m(\u001b[0m\u001b[0mdata\u001b[0m\u001b[0;34m,\u001b[0m \u001b[0mvariables\u001b[0m\u001b[0;34m)\u001b[0m\u001b[0;34m\u001b[0m\u001b[0;34m\u001b[0m\u001b[0m\n\u001b[0m\u001b[1;32m    606\u001b[0m \u001b[0;34m\u001b[0m\u001b[0m\n\u001b[1;32m    607\u001b[0m         \u001b[0;32mfor\u001b[0m \u001b[0mvar\u001b[0m\u001b[0;34m,\u001b[0m \u001b[0mcls\u001b[0m \u001b[0;32min\u001b[0m \u001b[0mself\u001b[0m\u001b[0;34m.\u001b[0m\u001b[0m_semantic_mappings\u001b[0m\u001b[0;34m.\u001b[0m\u001b[0mitems\u001b[0m\u001b[0;34m(\u001b[0m\u001b[0;34m)\u001b[0m\u001b[0;34m:\u001b[0m\u001b[0;34m\u001b[0m\u001b[0;34m\u001b[0m\u001b[0m\n",
            "\u001b[0;32m/usr/local/lib/python3.7/dist-packages/seaborn/_core.py\u001b[0m in \u001b[0;36massign_variables\u001b[0;34m(self, data, variables)\u001b[0m\n\u001b[1;32m    667\u001b[0m             \u001b[0mself\u001b[0m\u001b[0;34m.\u001b[0m\u001b[0minput_format\u001b[0m \u001b[0;34m=\u001b[0m \u001b[0;34m\"long\"\u001b[0m\u001b[0;34m\u001b[0m\u001b[0;34m\u001b[0m\u001b[0m\n\u001b[1;32m    668\u001b[0m             plot_data, variables = self._assign_variables_longform(\n\u001b[0;32m--> 669\u001b[0;31m                 \u001b[0mdata\u001b[0m\u001b[0;34m,\u001b[0m \u001b[0;34m**\u001b[0m\u001b[0mvariables\u001b[0m\u001b[0;34m,\u001b[0m\u001b[0;34m\u001b[0m\u001b[0;34m\u001b[0m\u001b[0m\n\u001b[0m\u001b[1;32m    670\u001b[0m             )\n\u001b[1;32m    671\u001b[0m \u001b[0;34m\u001b[0m\u001b[0m\n",
            "\u001b[0;32m/usr/local/lib/python3.7/dist-packages/seaborn/_core.py\u001b[0m in \u001b[0;36m_assign_variables_longform\u001b[0;34m(self, data, **kwargs)\u001b[0m\n\u001b[1;32m    925\u001b[0m         \u001b[0;31m# Construct a tidy plot DataFrame. This will convert a number of\u001b[0m\u001b[0;34m\u001b[0m\u001b[0;34m\u001b[0m\u001b[0;34m\u001b[0m\u001b[0m\n\u001b[1;32m    926\u001b[0m         \u001b[0;31m# types automatically, aligning on index in case of pandas objects\u001b[0m\u001b[0;34m\u001b[0m\u001b[0;34m\u001b[0m\u001b[0;34m\u001b[0m\u001b[0m\n\u001b[0;32m--> 927\u001b[0;31m         \u001b[0mplot_data\u001b[0m \u001b[0;34m=\u001b[0m \u001b[0mpd\u001b[0m\u001b[0;34m.\u001b[0m\u001b[0mDataFrame\u001b[0m\u001b[0;34m(\u001b[0m\u001b[0mplot_data\u001b[0m\u001b[0;34m)\u001b[0m\u001b[0;34m\u001b[0m\u001b[0;34m\u001b[0m\u001b[0m\n\u001b[0m\u001b[1;32m    928\u001b[0m \u001b[0;34m\u001b[0m\u001b[0m\n\u001b[1;32m    929\u001b[0m         \u001b[0;31m# Reduce the variables dictionary to fields with valid data\u001b[0m\u001b[0;34m\u001b[0m\u001b[0;34m\u001b[0m\u001b[0;34m\u001b[0m\u001b[0m\n",
            "\u001b[0;32m/usr/local/lib/python3.7/dist-packages/pandas/core/frame.py\u001b[0m in \u001b[0;36m__init__\u001b[0;34m(self, data, index, columns, dtype, copy)\u001b[0m\n\u001b[1;32m    612\u001b[0m         \u001b[0;32melif\u001b[0m \u001b[0misinstance\u001b[0m\u001b[0;34m(\u001b[0m\u001b[0mdata\u001b[0m\u001b[0;34m,\u001b[0m \u001b[0mdict\u001b[0m\u001b[0;34m)\u001b[0m\u001b[0;34m:\u001b[0m\u001b[0;34m\u001b[0m\u001b[0;34m\u001b[0m\u001b[0m\n\u001b[1;32m    613\u001b[0m             \u001b[0;31m# GH#38939 de facto copy defaults to False only in non-dict cases\u001b[0m\u001b[0;34m\u001b[0m\u001b[0;34m\u001b[0m\u001b[0;34m\u001b[0m\u001b[0m\n\u001b[0;32m--> 614\u001b[0;31m             \u001b[0mmgr\u001b[0m \u001b[0;34m=\u001b[0m \u001b[0mdict_to_mgr\u001b[0m\u001b[0;34m(\u001b[0m\u001b[0mdata\u001b[0m\u001b[0;34m,\u001b[0m \u001b[0mindex\u001b[0m\u001b[0;34m,\u001b[0m \u001b[0mcolumns\u001b[0m\u001b[0;34m,\u001b[0m \u001b[0mdtype\u001b[0m\u001b[0;34m=\u001b[0m\u001b[0mdtype\u001b[0m\u001b[0;34m,\u001b[0m \u001b[0mcopy\u001b[0m\u001b[0;34m=\u001b[0m\u001b[0mcopy\u001b[0m\u001b[0;34m,\u001b[0m \u001b[0mtyp\u001b[0m\u001b[0;34m=\u001b[0m\u001b[0mmanager\u001b[0m\u001b[0;34m)\u001b[0m\u001b[0;34m\u001b[0m\u001b[0;34m\u001b[0m\u001b[0m\n\u001b[0m\u001b[1;32m    615\u001b[0m         \u001b[0;32melif\u001b[0m \u001b[0misinstance\u001b[0m\u001b[0;34m(\u001b[0m\u001b[0mdata\u001b[0m\u001b[0;34m,\u001b[0m \u001b[0mma\u001b[0m\u001b[0;34m.\u001b[0m\u001b[0mMaskedArray\u001b[0m\u001b[0;34m)\u001b[0m\u001b[0;34m:\u001b[0m\u001b[0;34m\u001b[0m\u001b[0;34m\u001b[0m\u001b[0m\n\u001b[1;32m    616\u001b[0m             \u001b[0;32mimport\u001b[0m \u001b[0mnumpy\u001b[0m\u001b[0;34m.\u001b[0m\u001b[0mma\u001b[0m\u001b[0;34m.\u001b[0m\u001b[0mmrecords\u001b[0m \u001b[0;32mas\u001b[0m \u001b[0mmrecords\u001b[0m\u001b[0;34m\u001b[0m\u001b[0;34m\u001b[0m\u001b[0m\n",
            "\u001b[0;32m/usr/local/lib/python3.7/dist-packages/pandas/core/internals/construction.py\u001b[0m in \u001b[0;36mdict_to_mgr\u001b[0;34m(data, index, columns, dtype, typ, copy)\u001b[0m\n\u001b[1;32m    463\u001b[0m \u001b[0;34m\u001b[0m\u001b[0m\n\u001b[1;32m    464\u001b[0m     return arrays_to_mgr(\n\u001b[0;32m--> 465\u001b[0;31m         \u001b[0marrays\u001b[0m\u001b[0;34m,\u001b[0m \u001b[0mdata_names\u001b[0m\u001b[0;34m,\u001b[0m \u001b[0mindex\u001b[0m\u001b[0;34m,\u001b[0m \u001b[0mcolumns\u001b[0m\u001b[0;34m,\u001b[0m \u001b[0mdtype\u001b[0m\u001b[0;34m=\u001b[0m\u001b[0mdtype\u001b[0m\u001b[0;34m,\u001b[0m \u001b[0mtyp\u001b[0m\u001b[0;34m=\u001b[0m\u001b[0mtyp\u001b[0m\u001b[0;34m,\u001b[0m \u001b[0mconsolidate\u001b[0m\u001b[0;34m=\u001b[0m\u001b[0mcopy\u001b[0m\u001b[0;34m\u001b[0m\u001b[0;34m\u001b[0m\u001b[0m\n\u001b[0m\u001b[1;32m    466\u001b[0m     )\n\u001b[1;32m    467\u001b[0m \u001b[0;34m\u001b[0m\u001b[0m\n",
            "\u001b[0;32m/usr/local/lib/python3.7/dist-packages/pandas/core/internals/construction.py\u001b[0m in \u001b[0;36marrays_to_mgr\u001b[0;34m(arrays, arr_names, index, columns, dtype, verify_integrity, typ, consolidate)\u001b[0m\n\u001b[1;32m    117\u001b[0m         \u001b[0;31m# figure out the index, if necessary\u001b[0m\u001b[0;34m\u001b[0m\u001b[0;34m\u001b[0m\u001b[0;34m\u001b[0m\u001b[0m\n\u001b[1;32m    118\u001b[0m         \u001b[0;32mif\u001b[0m \u001b[0mindex\u001b[0m \u001b[0;32mis\u001b[0m \u001b[0;32mNone\u001b[0m\u001b[0;34m:\u001b[0m\u001b[0;34m\u001b[0m\u001b[0;34m\u001b[0m\u001b[0m\n\u001b[0;32m--> 119\u001b[0;31m             \u001b[0mindex\u001b[0m \u001b[0;34m=\u001b[0m \u001b[0m_extract_index\u001b[0m\u001b[0;34m(\u001b[0m\u001b[0marrays\u001b[0m\u001b[0;34m)\u001b[0m\u001b[0;34m\u001b[0m\u001b[0;34m\u001b[0m\u001b[0m\n\u001b[0m\u001b[1;32m    120\u001b[0m         \u001b[0;32melse\u001b[0m\u001b[0;34m:\u001b[0m\u001b[0;34m\u001b[0m\u001b[0;34m\u001b[0m\u001b[0m\n\u001b[1;32m    121\u001b[0m             \u001b[0mindex\u001b[0m \u001b[0;34m=\u001b[0m \u001b[0mensure_index\u001b[0m\u001b[0;34m(\u001b[0m\u001b[0mindex\u001b[0m\u001b[0;34m)\u001b[0m\u001b[0;34m\u001b[0m\u001b[0;34m\u001b[0m\u001b[0m\n",
            "\u001b[0;32m/usr/local/lib/python3.7/dist-packages/pandas/core/internals/construction.py\u001b[0m in \u001b[0;36m_extract_index\u001b[0;34m(data)\u001b[0m\n\u001b[1;32m    633\u001b[0m             \u001b[0mlengths\u001b[0m \u001b[0;34m=\u001b[0m \u001b[0mlist\u001b[0m\u001b[0;34m(\u001b[0m\u001b[0mset\u001b[0m\u001b[0;34m(\u001b[0m\u001b[0mraw_lengths\u001b[0m\u001b[0;34m)\u001b[0m\u001b[0;34m)\u001b[0m\u001b[0;34m\u001b[0m\u001b[0;34m\u001b[0m\u001b[0m\n\u001b[1;32m    634\u001b[0m             \u001b[0;32mif\u001b[0m \u001b[0mlen\u001b[0m\u001b[0;34m(\u001b[0m\u001b[0mlengths\u001b[0m\u001b[0;34m)\u001b[0m \u001b[0;34m>\u001b[0m \u001b[0;36m1\u001b[0m\u001b[0;34m:\u001b[0m\u001b[0;34m\u001b[0m\u001b[0;34m\u001b[0m\u001b[0m\n\u001b[0;32m--> 635\u001b[0;31m                 \u001b[0;32mraise\u001b[0m \u001b[0mValueError\u001b[0m\u001b[0;34m(\u001b[0m\u001b[0;34m\"All arrays must be of the same length\"\u001b[0m\u001b[0;34m)\u001b[0m\u001b[0;34m\u001b[0m\u001b[0;34m\u001b[0m\u001b[0m\n\u001b[0m\u001b[1;32m    636\u001b[0m \u001b[0;34m\u001b[0m\u001b[0m\n\u001b[1;32m    637\u001b[0m             \u001b[0;32mif\u001b[0m \u001b[0mhave_dicts\u001b[0m\u001b[0;34m:\u001b[0m\u001b[0;34m\u001b[0m\u001b[0;34m\u001b[0m\u001b[0m\n",
            "\u001b[0;31mValueError\u001b[0m: All arrays must be of the same length"
          ]
        }
      ]
    },
    {
      "cell_type": "code",
      "source": [
        "xs2 = [i for i in range(1,20)]\n",
        "sns.lineplot(xs2,sil)"
      ],
      "metadata": {
        "colab": {
          "base_uri": "https://localhost:8080/",
          "height": 337
        },
        "id": "DWWsZFdJYfJM",
        "outputId": "009521ff-5bf3-478c-e831-01b7a7e94a35"
      },
      "execution_count": null,
      "outputs": [
        {
          "output_type": "stream",
          "name": "stderr",
          "text": [
            "/usr/local/lib/python3.7/dist-packages/seaborn/_decorators.py:43: FutureWarning: Pass the following variables as keyword args: x, y. From version 0.12, the only valid positional argument will be `data`, and passing other arguments without an explicit keyword will result in an error or misinterpretation.\n",
            "  FutureWarning\n"
          ]
        },
        {
          "output_type": "execute_result",
          "data": {
            "text/plain": [
              "<matplotlib.axes._subplots.AxesSubplot at 0x7f327ef525d0>"
            ]
          },
          "metadata": {},
          "execution_count": 32
        },
        {
          "output_type": "display_data",
          "data": {
            "text/plain": [
              "<Figure size 432x288 with 1 Axes>"
            ],
            "image/png": "[encoded data removed]"
          },
          "metadata": {
            "needs_background": "light"
          }
        }
      ]
    },
    {
      "cell_type": "code",
      "source": [
        ""
      ],
      "metadata": {
        "id": "EwOFPNOhfrKP"
      },
      "execution_count": null,
      "outputs": []
    },
    {
      "cell_type": "markdown",
      "source": [
        "at k = 8 the error is minimum"
      ],
      "metadata": {
        "id": "rgKgM_kYfwBX"
      }
    },
    {
      "cell_type": "code",
      "source": [
        "#lets try description only\n"
      ],
      "metadata": {
        "id": "z8qw5Egwfzu0"
      },
      "execution_count": null,
      "outputs": []
    },
    {
      "cell_type": "code",
      "source": [
        "df = pd.read_csv('/content/drive/MyDrive/capstone project /capstone 4/cleaned_description.csv')"
      ],
      "metadata": {
        "id": "phHPLexYf5LY"
      },
      "execution_count": 6,
      "outputs": []
    },
    {
      "cell_type": "markdown",
      "source": [
        "### tokenizer and pad_sequence"
      ],
      "metadata": {
        "id": "Tm_IbLCxiS6t"
      }
    },
    {
      "cell_type": "code",
      "source": [
        "from tensorflow.keras.preprocessing.text import Tokenizer\n",
        "from tensorflow.keras.preprocessing.sequence import pad_sequences"
      ],
      "metadata": {
        "id": "eX630Z5qibF1"
      },
      "execution_count": 7,
      "outputs": []
    },
    {
      "cell_type": "code",
      "source": [
        "tokenizer = Tokenizer(num_words = 5000) \n",
        "# tokenizer.fit_on_texts(df['meta_description'])"
      ],
      "metadata": {
        "id": "2k7Pr22tiEm4"
      },
      "execution_count": null,
      "outputs": []
    },
    {
      "cell_type": "code",
      "source": [
        "tokenizer.fit_on_texts(df['meta_description'].apply(str))"
      ],
      "metadata": {
        "id": "tOpR-T8qjWFD"
      },
      "execution_count": null,
      "outputs": []
    },
    {
      "cell_type": "code",
      "source": [
        "word_index = tokenizer.word_index"
      ],
      "metadata": {
        "id": "atkI5GPYjmlh"
      },
      "execution_count": null,
      "outputs": []
    },
    {
      "cell_type": "code",
      "source": [
        "word_index"
      ],
      "metadata": {
        "colab": {
          "base_uri": "https://localhost:8080/"
        },
        "id": "vp-ieQveksqI",
        "outputId": "5ca3bfdb-fc67-46a6-fa38-0238803b9fd3"
      },
      "execution_count": null,
      "outputs": [
        {
          "output_type": "execute_result",
          "data": {
            "text/plain": [
              "{'services': 1,\n",
              " 'service': 2,\n",
              " 'business': 3,\n",
              " 'solutions': 4,\n",
              " 'nan': 5,\n",
              " 'company': 6,\n",
              " 'sep': 7,\n",
              " 'insurance': 8,\n",
              " 'management': 9,\n",
              " 'new': 10,\n",
              " 'best': 11,\n",
              " 'quality': 12,\n",
              " 'design': 13,\n",
              " 'energy': 14,\n",
              " 'based': 15,\n",
              " 'home': 16,\n",
              " 'today': 17,\n",
              " 'marketing': 18,\n",
              " 'commercial': 19,\n",
              " 'provides': 20,\n",
              " 'providing': 21,\n",
              " 'care': 22,\n",
              " 'call': 23,\n",
              " 'products': 24,\n",
              " 'provide': 25,\n",
              " 'law': 26,\n",
              " 'leading': 27,\n",
              " 'help': 28,\n",
              " 'free': 29,\n",
              " 'firm': 30,\n",
              " 'years': 31,\n",
              " 'one': 32,\n",
              " 'full': 33,\n",
              " 'sale': 34,\n",
              " 'medical': 35,\n",
              " 'clients': 36,\n",
              " 'needs': 37,\n",
              " 'offers': 38,\n",
              " 'development': 39,\n",
              " 'financial': 40,\n",
              " 'experience': 41,\n",
              " 'industry': 42,\n",
              " 'offer': 43,\n",
              " 'solar': 44,\n",
              " 'high': 45,\n",
              " 'agency': 46,\n",
              " 'industrial': 47,\n",
              " 'software': 48,\n",
              " 'family': 49,\n",
              " 'property': 50,\n",
              " 'consulting': 51,\n",
              " 'get': 52,\n",
              " 'professional': 53,\n",
              " 'online': 54,\n",
              " 'located': 55,\n",
              " 'food': 56,\n",
              " 'since': 57,\n",
              " 'web': 58,\n",
              " 'serving': 59,\n",
              " 'equipment': 60,\n",
              " 'systems': 61,\n",
              " 'estate': 62,\n",
              " 'support': 63,\n",
              " 'real': 64,\n",
              " 'technology': 65,\n",
              " 'group': 66,\n",
              " 'including': 67,\n",
              " 'businesses': 68,\n",
              " 'health': 69,\n",
              " 'local': 70,\n",
              " 'world': 71,\n",
              " 'area': 72,\n",
              " 'find': 73,\n",
              " 'range': 74,\n",
              " 'website': 75,\n",
              " 'training': 76,\n",
              " 'inc': 77,\n",
              " 'security': 78,\n",
              " 'contact': 79,\n",
              " 'offering': 80,\n",
              " 'provider': 81,\n",
              " 'com': 82,\n",
              " 'media': 83,\n",
              " 'custom': 84,\n",
              " 'team': 85,\n",
              " 'hospital': 86,\n",
              " 'work': 87,\n",
              " 'planning': 88,\n",
              " 'digital': 89,\n",
              " 'personal': 90,\n",
              " 'small': 91,\n",
              " 'companies': 92,\n",
              " 'coffee': 93,\n",
              " 'hotel': 94,\n",
              " 'logistics': 95,\n",
              " 'across': 96,\n",
              " 'customers': 97,\n",
              " 'office': 98,\n",
              " 'life': 99,\n",
              " 'specializing': 100,\n",
              " 'independent': 101,\n",
              " 'oil': 102,\n",
              " 'top': 103,\n",
              " 'residential': 104,\n",
              " 'production': 105,\n",
              " 'learn': 106,\n",
              " 'electrical': 107,\n",
              " 'make': 108,\n",
              " 'india': 109,\n",
              " 'education': 110,\n",
              " 'north': 111,\n",
              " 'cleaning': 112,\n",
              " 'looking': 113,\n",
              " 'domain': 114,\n",
              " 'throughout': 115,\n",
              " 'construction': 116,\n",
              " 'investment': 117,\n",
              " 'legal': 118,\n",
              " 'welcome': 119,\n",
              " 'owned': 120,\n",
              " 'need': 121,\n",
              " 'healthcare': 122,\n",
              " 'great': 123,\n",
              " 'tax': 124,\n",
              " 'transportation': 125,\n",
              " 'well': 126,\n",
              " 'sales': 127,\n",
              " 'south': 128,\n",
              " 'people': 129,\n",
              " 'global': 130,\n",
              " 'repair': 131,\n",
              " 'time': 132,\n",
              " 'dedicated': 133,\n",
              " 'areas': 134,\n",
              " 'gas': 135,\n",
              " 'hosting': 136,\n",
              " 'information': 137,\n",
              " 'corporate': 138,\n",
              " 'center': 139,\n",
              " 'county': 140,\n",
              " 'city': 141,\n",
              " 'community': 142,\n",
              " 'customer': 143,\n",
              " 'specializes': 144,\n",
              " 'wide': 145,\n",
              " 'also': 146,\n",
              " 'steel': 147,\n",
              " 'video': 148,\n",
              " 'veterinary': 149,\n",
              " 'available': 150,\n",
              " 'furniture': 151,\n",
              " 'supply': 152,\n",
              " 'industries': 153,\n",
              " 'private': 154,\n",
              " 'freight': 155,\n",
              " 'data': 156,\n",
              " 'affordable': 157,\n",
              " 'machine': 158,\n",
              " 'first': 159,\n",
              " 'innovative': 160,\n",
              " 'event': 161,\n",
              " 'social': 162,\n",
              " 'creative': 163,\n",
              " 'building': 164,\n",
              " 'international': 165,\n",
              " 'award': 166,\n",
              " 'experienced': 167,\n",
              " 'shop': 168,\n",
              " 'mortgage': 169,\n",
              " 'air': 170,\n",
              " 'water': 171,\n",
              " 'power': 172,\n",
              " 'winning': 173,\n",
              " 'events': 174,\n",
              " 'brand': 175,\n",
              " 'delivery': 176,\n",
              " 'market': 177,\n",
              " 'every': 178,\n",
              " 'manufacturing': 179,\n",
              " 'london': 180,\n",
              " 'project': 181,\n",
              " 'maintenance': 182,\n",
              " 'recruitment': 183,\n",
              " 'projects': 184,\n",
              " 'properties': 185,\n",
              " 'parts': 186,\n",
              " 'experts': 187,\n",
              " 'site': 188,\n",
              " 'eye': 189,\n",
              " 'practice': 190,\n",
              " 'metal': 191,\n",
              " 'premier': 192,\n",
              " 'san': 193,\n",
              " 'manufacturer': 194,\n",
              " 'system': 195,\n",
              " 'visit': 196,\n",
              " 'cost': 197,\n",
              " 'west': 198,\n",
              " 'transport': 199,\n",
              " 'solution': 200,\n",
              " 'photography': 201,\n",
              " 'installation': 202,\n",
              " 'california': 203,\n",
              " 'ltd': 204,\n",
              " 'focused': 205,\n",
              " 'premium': 206,\n",
              " 'tools': 207,\n",
              " 'york': 208,\n",
              " 'florida': 209,\n",
              " 'state': 210,\n",
              " 'right': 211,\n",
              " 'accounting': 212,\n",
              " 'canada': 213,\n",
              " 'day': 214,\n",
              " 'long': 215,\n",
              " 'expertise': 216,\n",
              " 'advice': 217,\n",
              " 'environmental': 218,\n",
              " 'engineering': 219,\n",
              " 'professionals': 220,\n",
              " 'mobile': 221,\n",
              " 'unique': 222,\n",
              " 'create': 223,\n",
              " 'leader': 224,\n",
              " 'comprehensive': 225,\n",
              " 'search': 226,\n",
              " 'helping': 227,\n",
              " 'shipping': 228,\n",
              " 'texas': 229,\n",
              " 'trusted': 230,\n",
              " 'llc': 231,\n",
              " 'animal': 232,\n",
              " 'general': 233,\n",
              " 'product': 234,\n",
              " 'auto': 235,\n",
              " 'established': 236,\n",
              " 'value': 237,\n",
              " 'restaurant': 238,\n",
              " 'certified': 239,\n",
              " 'heating': 240,\n",
              " 'supplier': 241,\n",
              " 'source': 242,\n",
              " 'public': 243,\n",
              " 'surrounding': 244,\n",
              " 'largest': 245,\n",
              " 'supplies': 246,\n",
              " 'use': 247,\n",
              " 'name': 248,\n",
              " 'expert': 249,\n",
              " 'specialists': 250,\n",
              " 'computer': 251,\n",
              " 'network': 252,\n",
              " 'specialist': 253,\n",
              " 'build': 254,\n",
              " 'marine': 255,\n",
              " 'electric': 256,\n",
              " 'price': 257,\n",
              " 'homes': 258,\n",
              " 'deliver': 259,\n",
              " 'research': 260,\n",
              " 'complete': 261,\n",
              " 'non': 262,\n",
              " 'made': 263,\n",
              " 'architecture': 264,\n",
              " 'pet': 265,\n",
              " 'retail': 266,\n",
              " 'safety': 267,\n",
              " 'advertising': 268,\n",
              " 'specialty': 269,\n",
              " 'used': 270,\n",
              " 'see': 271,\n",
              " 'injury': 272,\n",
              " 'staffing': 273,\n",
              " 'truck': 274,\n",
              " 'variety': 275,\n",
              " 'buy': 276,\n",
              " 'effective': 277,\n",
              " 'focus': 278,\n",
              " 'cloud': 279,\n",
              " 'highest': 280,\n",
              " 'specialize': 281,\n",
              " 'many': 282,\n",
              " 'partner': 283,\n",
              " 'reliable': 284,\n",
              " 'quote': 285,\n",
              " 'take': 286,\n",
              " 'natural': 287,\n",
              " 'process': 288,\n",
              " 'like': 289,\n",
              " 'car': 290,\n",
              " 'offices': 291,\n",
              " 'machinery': 292,\n",
              " 'working': 293,\n",
              " 'foods': 294,\n",
              " 'mission': 295,\n",
              " 'finance': 296,\n",
              " 'around': 297,\n",
              " 'australia': 298,\n",
              " 'large': 299,\n",
              " 'school': 300,\n",
              " 'lawyers': 301,\n",
              " 'brands': 302,\n",
              " 'architects': 303,\n",
              " 'meet': 304,\n",
              " 'house': 305,\n",
              " 'class': 306,\n",
              " 'staff': 307,\n",
              " 'national': 308,\n",
              " 'let': 309,\n",
              " 'performance': 310,\n",
              " 'include': 311,\n",
              " 'individuals': 312,\n",
              " 'multi': 313,\n",
              " 'committed': 314,\n",
              " 'content': 315,\n",
              " 'beach': 316,\n",
              " 'book': 317,\n",
              " 'consultation': 318,\n",
              " 'friendly': 319,\n",
              " 'contractor': 320,\n",
              " 'states': 321,\n",
              " 'hotels': 322,\n",
              " 'way': 323,\n",
              " 'using': 324,\n",
              " 'money': 325,\n",
              " 'end': 326,\n",
              " 'access': 327,\n",
              " 'attorney': 328,\n",
              " 'machines': 329,\n",
              " 'founded': 330,\n",
              " 'delivering': 331,\n",
              " 'programs': 332,\n",
              " 'serve': 333,\n",
              " 'wedding': 334,\n",
              " 'storage': 335,\n",
              " 'locations': 336,\n",
              " 'rental': 337,\n",
              " 'results': 338,\n",
              " 'distribution': 339,\n",
              " 'designed': 340,\n",
              " 'east': 341,\n",
              " 'bank': 342,\n",
              " 'whether': 343,\n",
              " 'low': 344,\n",
              " 'rates': 345,\n",
              " 'united': 346,\n",
              " 'manufacturers': 347,\n",
              " 'seo': 348,\n",
              " 'travel': 349,\n",
              " 'line': 350,\n",
              " 'facilities': 351,\n",
              " 'prices': 352,\n",
              " 'strategy': 353,\n",
              " 'central': 354,\n",
              " 'appointment': 355,\n",
              " 'loans': 356,\n",
              " 'fast': 357,\n",
              " 'news': 358,\n",
              " 'client': 359,\n",
              " 'better': 360,\n",
              " 'fresh': 361,\n",
              " 'control': 362,\n",
              " 'luxury': 363,\n",
              " 'beauty': 364,\n",
              " 'easy': 365,\n",
              " 'request': 366,\n",
              " 'contractors': 367,\n",
              " 'art': 368,\n",
              " 'worldwide': 369,\n",
              " 'fuel': 370,\n",
              " 'consultants': 371,\n",
              " 'trucking': 372,\n",
              " 'renewable': 373,\n",
              " 'boutique': 374,\n",
              " 'advanced': 375,\n",
              " 'clean': 376,\n",
              " 'treatment': 377,\n",
              " 'resources': 378,\n",
              " 'applications': 379,\n",
              " 'pharmacy': 380,\n",
              " 'modern': 381,\n",
              " 'facility': 382,\n",
              " 'managed': 383,\n",
              " 'start': 384,\n",
              " 'consultancy': 385,\n",
              " 'highly': 386,\n",
              " 'level': 387,\n",
              " 'exceptional': 388,\n",
              " 'usa': 389,\n",
              " 'architectural': 390,\n",
              " 'helps': 391,\n",
              " 'trust': 392,\n",
              " 'term': 393,\n",
              " 'virginia': 394,\n",
              " 'communities': 395,\n",
              " 'job': 396,\n",
              " 'patients': 397,\n",
              " 'bay': 398,\n",
              " 'clinic': 399,\n",
              " 'waste': 400,\n",
              " 'save': 401,\n",
              " 'next': 402,\n",
              " 'live': 403,\n",
              " 'approach': 404,\n",
              " 'technical': 405,\n",
              " 'cnc': 406,\n",
              " 'repairs': 407,\n",
              " 'jobs': 408,\n",
              " 'rentals': 409,\n",
              " 'wordpress': 410,\n",
              " 'much': 411,\n",
              " 'technologies': 412,\n",
              " 'competitive': 413,\n",
              " 'owners': 414,\n",
              " 'organization': 415,\n",
              " 'los': 416,\n",
              " 'chain': 417,\n",
              " 'integrated': 418,\n",
              " 'emergency': 419,\n",
              " 'greater': 420,\n",
              " 'page': 421,\n",
              " 'within': 422,\n",
              " 'direct': 423,\n",
              " 'store': 424,\n",
              " 'strategic': 425,\n",
              " 'options': 426,\n",
              " 'partners': 427,\n",
              " 'testing': 428,\n",
              " 'stop': 429,\n",
              " 'grow': 430,\n",
              " 'valley': 431,\n",
              " 'specialising': 432,\n",
              " 'improve': 433,\n",
              " 'surgery': 434,\n",
              " 'tool': 435,\n",
              " 'america': 436,\n",
              " 'carolina': 437,\n",
              " 'engine': 438,\n",
              " 'attorneys': 439,\n",
              " 'organic': 440,\n",
              " 'families': 441,\n",
              " 'asset': 442,\n",
              " 'give': 443,\n",
              " 'contract': 444,\n",
              " 'sustainable': 445,\n",
              " 'cutting': 446,\n",
              " 'related': 447,\n",
              " 'nationwide': 448,\n",
              " 'superior': 449,\n",
              " 'heart': 450,\n",
              " 'carpet': 451,\n",
              " 'designer': 452,\n",
              " 'ohio': 453,\n",
              " 'northern': 454,\n",
              " 'place': 455,\n",
              " 'chicago': 456,\n",
              " 'american': 457,\n",
              " 'check': 458,\n",
              " 'excellent': 459,\n",
              " 'distributor': 460,\n",
              " 'risk': 461,\n",
              " 'success': 462,\n",
              " 'latest': 463,\n",
              " 'coast': 464,\n",
              " 'markets': 465,\n",
              " 'knowledge': 466,\n",
              " 'angeles': 467,\n",
              " 'efficient': 468,\n",
              " 'near': 469,\n",
              " 'want': 470,\n",
              " 'colorado': 471,\n",
              " 'educational': 472,\n",
              " 'washington': 473,\n",
              " 'organizations': 474,\n",
              " 'beer': 475,\n",
              " 'vision': 476,\n",
              " 'suppliers': 477,\n",
              " 'southern': 478,\n",
              " 'houston': 479,\n",
              " 'hire': 480,\n",
              " 'students': 481,\n",
              " 'creating': 482,\n",
              " 'good': 483,\n",
              " 'domains': 484,\n",
              " 'island': 485,\n",
              " 'wholesale': 486,\n",
              " 'loan': 487,\n",
              " 'built': 488,\n",
              " 'special': 489,\n",
              " 'green': 490,\n",
              " 'look': 491,\n",
              " 'growth': 492,\n",
              " 'works': 493,\n",
              " 'courses': 494,\n",
              " 'machining': 495,\n",
              " 'precision': 496,\n",
              " 'space': 497,\n",
              " 'lawyer': 498,\n",
              " 'fabrication': 499,\n",
              " 'materials': 500,\n",
              " 'goals': 501,\n",
              " 'choice': 502,\n",
              " 'operations': 503,\n",
              " 'schools': 504,\n",
              " 'jersey': 505,\n",
              " 'operated': 506,\n",
              " 'read': 507,\n",
              " 'photographer': 508,\n",
              " 'protection': 509,\n",
              " 'western': 510,\n",
              " 'future': 511,\n",
              " 'making': 512,\n",
              " 'centre': 513,\n",
              " 'strategies': 514,\n",
              " 'toronto': 515,\n",
              " 'together': 516,\n",
              " 'country': 517,\n",
              " 'manage': 518,\n",
              " 'platform': 519,\n",
              " 'lake': 520,\n",
              " 'know': 521,\n",
              " 'bar': 522,\n",
              " 'wealth': 523,\n",
              " 'airport': 524,\n",
              " 'come': 525,\n",
              " 'application': 526,\n",
              " 'aerospace': 527,\n",
              " 'click': 528,\n",
              " 'craft': 529,\n",
              " 'profit': 530,\n",
              " 'trade': 531,\n",
              " 'servicing': 532,\n",
              " 'set': 533,\n",
              " 'employment': 534,\n",
              " 'michigan': 535,\n",
              " 'environment': 536,\n",
              " 'defense': 537,\n",
              " 'park': 538,\n",
              " 'chemical': 539,\n",
              " 'beyond': 540,\n",
              " 'providers': 541,\n",
              " 'achieve': 542,\n",
              " 'sector': 543,\n",
              " 'government': 544,\n",
              " 'gold': 545,\n",
              " 'agents': 546,\n",
              " 'year': 547,\n",
              " 'utility': 548,\n",
              " 'serves': 549,\n",
              " 'specialized': 550,\n",
              " 'road': 551,\n",
              " 'ready': 552,\n",
              " 'efficiency': 553,\n",
              " 'criminal': 554,\n",
              " 'selection': 555,\n",
              " 'simple': 556,\n",
              " 'sell': 557,\n",
              " 'traditional': 558,\n",
              " 'order': 559,\n",
              " 'quotes': 560,\n",
              " 'goal': 561,\n",
              " 'safe': 562,\n",
              " 'litigation': 563,\n",
              " 'chemicals': 564,\n",
              " 'patient': 565,\n",
              " 'compliance': 566,\n",
              " 'customized': 567,\n",
              " 'opportunities': 568,\n",
              " 'single': 569,\n",
              " 'association': 570,\n",
              " 'open': 571,\n",
              " 'hospitality': 572,\n",
              " 'medicine': 573,\n",
              " 'melbourne': 574,\n",
              " 'domestic': 575,\n",
              " 'skilled': 576,\n",
              " 'sectors': 577,\n",
              " 'rated': 578,\n",
              " 'discover': 579,\n",
              " 'higher': 580,\n",
              " 'develop': 581,\n",
              " 'enjoy': 582,\n",
              " 'warehousing': 583,\n",
              " 'plans': 584,\n",
              " 'bring': 585,\n",
              " 'broker': 586,\n",
              " 'delivers': 587,\n",
              " 'innovation': 588,\n",
              " 'accountants': 589,\n",
              " 'costs': 590,\n",
              " 'interior': 591,\n",
              " 'email': 592,\n",
              " 'fully': 593,\n",
              " 'veterinarian': 594,\n",
              " 'makes': 595,\n",
              " 'enterprise': 596,\n",
              " 'apparel': 597,\n",
              " 'ingredients': 598,\n",
              " 'specialise': 599,\n",
              " 'designs': 600,\n",
              " 'licensed': 601,\n",
              " 'generation': 602,\n",
              " 'region': 603,\n",
              " 'bakery': 604,\n",
              " 'view': 605,\n",
              " 'part': 606,\n",
              " 'app': 607,\n",
              " 'developing': 608,\n",
              " 'pets': 609,\n",
              " 'lighting': 610,\n",
              " 'internet': 611,\n",
              " 'driven': 612,\n",
              " 'studio': 613,\n",
              " 'love': 614,\n",
              " 'learning': 615,\n",
              " 'advisory': 616,\n",
              " 'clinical': 617,\n",
              " 'traffic': 618,\n",
              " 'children': 619,\n",
              " 'catering': 620,\n",
              " 'perfect': 621,\n",
              " 'restaurants': 622,\n",
              " 'fine': 623,\n",
              " 'plan': 624,\n",
              " 'limited': 625,\n",
              " 'contracting': 626,\n",
              " 'excellence': 627,\n",
              " 'program': 628,\n",
              " 'trucks': 629,\n",
              " 'branding': 630,\n",
              " 'analysis': 631,\n",
              " 'key': 632,\n",
              " 'wine': 633,\n",
              " 'atlanta': 634,\n",
              " 'stay': 635,\n",
              " 'capital': 636,\n",
              " 'growing': 637,\n",
              " 'banking': 638,\n",
              " 'credit': 639,\n",
              " 'healthy': 640,\n",
              " 'ontario': 641,\n",
              " 'hvac': 642,\n",
              " 'phone': 643,\n",
              " 'processing': 644,\n",
              " 'executive': 645,\n",
              " 'living': 646,\n",
              " 'brokers': 647,\n",
              " 'cargo': 648,\n",
              " 'agent': 649,\n",
              " 'individual': 650,\n",
              " 'everything': 651,\n",
              " 'women': 652,\n",
              " 'requirements': 653,\n",
              " 'warehouse': 654,\n",
              " 'locally': 655,\n",
              " 'location': 656,\n",
              " 'heavy': 657,\n",
              " 'ensure': 658,\n",
              " 'proud': 659,\n",
              " 'automation': 660,\n",
              " 'portfolio': 661,\n",
              " 'fleet': 662,\n",
              " 'complex': 663,\n",
              " 'big': 664,\n",
              " 'beautiful': 665,\n",
              " 'benefits': 666,\n",
              " 'doctors': 667,\n",
              " 'possible': 668,\n",
              " 'major': 669,\n",
              " 'metals': 670,\n",
              " 'always': 671,\n",
              " 'two': 672,\n",
              " 'sydney': 673,\n",
              " 'bespoke': 674,\n",
              " 'packaging': 675,\n",
              " 'retirement': 676,\n",
              " 'drilling': 677,\n",
              " 'back': 678,\n",
              " 'produce': 679,\n",
              " 'rent': 680,\n",
              " 'schedule': 681,\n",
              " 'door': 682,\n",
              " 'communications': 683,\n",
              " 'issues': 684,\n",
              " 'brokerage': 685,\n",
              " 'super': 686,\n",
              " 'presence': 687,\n",
              " 'field': 688,\n",
              " 'types': 689,\n",
              " 'pride': 690,\n",
              " 'corporation': 691,\n",
              " 'become': 692,\n",
              " 'leaders': 693,\n",
              " 'financing': 694,\n",
              " 'believe': 695,\n",
              " 'would': 696,\n",
              " 'provided': 697,\n",
              " 'land': 698,\n",
              " 'run': 699,\n",
              " 'advisors': 700,\n",
              " 'profits': 701,\n",
              " 'operating': 702,\n",
              " 'delicious': 703,\n",
              " 'resource': 704,\n",
              " 'nursing': 705,\n",
              " 'coverage': 706,\n",
              " 'agencies': 707,\n",
              " 'tailored': 708,\n",
              " 'vancouver': 709,\n",
              " 'change': 710,\n",
              " 'tech': 711,\n",
              " 'georgia': 712,\n",
              " 'illinois': 713,\n",
              " 'investors': 714,\n",
              " 'touch': 715,\n",
              " 'fire': 716,\n",
              " 'conditioning': 717,\n",
              " 'components': 718,\n",
              " 'fort': 719,\n",
              " 'pre': 720,\n",
              " 'edge': 721,\n",
              " 'extensive': 722,\n",
              " 'pennsylvania': 723,\n",
              " 'associates': 724,\n",
              " 'dallas': 725,\n",
              " 'buildings': 726,\n",
              " 'accessories': 727,\n",
              " 'reputation': 728,\n",
              " 'dining': 729,\n",
              " 'electricity': 730,\n",
              " 'dental': 731,\n",
              " 'denver': 732,\n",
              " 'employees': 733,\n",
              " 'england': 734,\n",
              " 'recruiting': 735,\n",
              " 'multiple': 736,\n",
              " 'divorce': 737,\n",
              " 'primary': 738,\n",
              " 'finest': 739,\n",
              " 'farm': 740,\n",
              " 'oregon': 741,\n",
              " 'diego': 742,\n",
              " 'firms': 743,\n",
              " 'canadian': 744,\n",
              " 'smart': 745,\n",
              " 'concrete': 746,\n",
              " 'includes': 747,\n",
              " 'secure': 748,\n",
              " 'matters': 749,\n",
              " 'infrastructure': 750,\n",
              " 'keep': 751,\n",
              " 'drive': 752,\n",
              " 'fit': 753,\n",
              " 'career': 754,\n",
              " 'reduce': 755,\n",
              " 'handling': 756,\n",
              " 'productions': 757,\n",
              " 'plumbing': 758,\n",
              " 'different': 759,\n",
              " 'sports': 760,\n",
              " 'graphic': 761,\n",
              " 'arizona': 762,\n",
              " 'heat': 763,\n",
              " 'regional': 764,\n",
              " 'income': 765,\n",
              " 'party': 766,\n",
              " 'talent': 767,\n",
              " 'vehicle': 768,\n",
              " 'college': 769,\n",
              " 'hours': 770,\n",
              " 'proven': 771,\n",
              " 'institute': 772,\n",
              " 'street': 773,\n",
              " 'printing': 774,\n",
              " 'boston': 775,\n",
              " 'hand': 776,\n",
              " 'boat': 777,\n",
              " 'successful': 778,\n",
              " 'therapy': 779,\n",
              " 'investments': 780,\n",
              " 'beverage': 781,\n",
              " 'style': 782,\n",
              " 'print': 783,\n",
              " 'indiana': 784,\n",
              " 'human': 785,\n",
              " 'personalized': 786,\n",
              " 'lifestyle': 787,\n",
              " 'choose': 788,\n",
              " 'housing': 789,\n",
              " 'assist': 790,\n",
              " 'representation': 791,\n",
              " 'entertainment': 792,\n",
              " 'important': 793,\n",
              " 'stainless': 794,\n",
              " 'skills': 795,\n",
              " 'proudly': 796,\n",
              " 'protect': 797,\n",
              " 'standard': 798,\n",
              " 'room': 799,\n",
              " 'designing': 800,\n",
              " 'rooms': 801,\n",
              " 'three': 802,\n",
              " 'dairy': 803,\n",
              " 'maryland': 804,\n",
              " 'exploration': 805,\n",
              " 'brewery': 806,\n",
              " 'courier': 807,\n",
              " 'australian': 808,\n",
              " 'understand': 809,\n",
              " 'austin': 810,\n",
              " 'medium': 811,\n",
              " 'europe': 812,\n",
              " 'downtown': 813,\n",
              " 'immigration': 814,\n",
              " 'pharmaceutical': 815,\n",
              " 'portland': 816,\n",
              " 'increase': 817,\n",
              " 'francisco': 818,\n",
              " 'known': 819,\n",
              " 'weddings': 820,\n",
              " 'doors': 821,\n",
              " 'hospitals': 822,\n",
              " 'miami': 823,\n",
              " 'wisconsin': 824,\n",
              " 'kansas': 825,\n",
              " 'cold': 826,\n",
              " 'bulk': 827,\n",
              " 'short': 828,\n",
              " 'lead': 829,\n",
              " 'immediate': 830,\n",
              " 'manufacture': 831,\n",
              " 'managers': 832,\n",
              " 'plus': 833,\n",
              " 'join': 834,\n",
              " 'diverse': 835,\n",
              " 'goods': 836,\n",
              " 'specific': 837,\n",
              " 'metro': 838,\n",
              " 'panel': 839,\n",
              " 'assets': 840,\n",
              " 'petroleum': 841,\n",
              " 'dealer': 842,\n",
              " 'various': 843,\n",
              " 'science': 844,\n",
              " 'please': 845,\n",
              " 'increased': 846,\n",
              " 'commitment': 847,\n",
              " 'film': 848,\n",
              " 'communication': 849,\n",
              " 'analytics': 850,\n",
              " 'wind': 851,\n",
              " 'counties': 852,\n",
              " 'star': 853,\n",
              " 'wood': 854,\n",
              " 'rehabilitation': 855,\n",
              " 'reach': 856,\n",
              " 'official': 857,\n",
              " 'cases': 858,\n",
              " 'student': 859,\n",
              " 'along': 860,\n",
              " 'moving': 861,\n",
              " 'case': 862,\n",
              " 'members': 863,\n",
              " 'course': 864,\n",
              " 'surgical': 865,\n",
              " 'manufactures': 866,\n",
              " 'outstanding': 867,\n",
              " 'ecommerce': 868,\n",
              " 'savings': 869,\n",
              " 'strong': 870,\n",
              " 'seattle': 871,\n",
              " 'aviation': 872,\n",
              " 'orange': 873,\n",
              " 'flexible': 874,\n",
              " 'impact': 875,\n",
              " 'websites': 876,\n",
              " 'indian': 877,\n",
              " 'qualified': 878,\n",
              " 'hard': 879,\n",
              " 'videos': 880,\n",
              " 'inventory': 881,\n",
              " 'delhi': 882,\n",
              " 'relationships': 883,\n",
              " 'led': 884,\n",
              " 'challenges': 885,\n",
              " 'panels': 886,\n",
              " 'employee': 887,\n",
              " 'budget': 888,\n",
              " 'monitoring': 889,\n",
              " 'mid': 890,\n",
              " 'point': 891,\n",
              " 'taxi': 892,\n",
              " 'trailers': 893,\n",
              " 'member': 894,\n",
              " 'centers': 895,\n",
              " 'standards': 896,\n",
              " 'practices': 897,\n",
              " 'decades': 898,\n",
              " 'skin': 899,\n",
              " 'selling': 900,\n",
              " 'producing': 901,\n",
              " 'purchase': 902,\n",
              " 'problems': 903,\n",
              " 'pumps': 904,\n",
              " 'trailer': 905,\n",
              " 'critical': 906,\n",
              " 'passion': 907,\n",
              " 'covering': 908,\n",
              " 'buying': 909,\n",
              " 'daily': 910,\n",
              " 'leadership': 911,\n",
              " 'massachusetts': 912,\n",
              " 'stock': 913,\n",
              " 'collection': 914,\n",
              " 'names': 915,\n",
              " 'aircraft': 916,\n",
              " 'self': 917,\n",
              " 'child': 918,\n",
              " 'makeup': 919,\n",
              " 'hope': 920,\n",
              " 'hydraulic': 921,\n",
              " 'funding': 922,\n",
              " 'mexico': 923,\n",
              " 'doctor': 924,\n",
              " 'installations': 925,\n",
              " 'days': 926,\n",
              " 'material': 927,\n",
              " 'scale': 928,\n",
              " 'foundation': 929,\n",
              " 'connect': 930,\n",
              " 'recognition': 931,\n",
              " 'plant': 932,\n",
              " 'removal': 933,\n",
              " 'etc': 934,\n",
              " 'relations': 935,\n",
              " 'delivered': 936,\n",
              " 'meeting': 937,\n",
              " 'experiences': 938,\n",
              " 'presses': 939,\n",
              " 'benefit': 940,\n",
              " 'supplying': 941,\n",
              " 'aluminum': 942,\n",
              " 'combined': 943,\n",
              " 'advantages': 944,\n",
              " 'alabama': 945,\n",
              " 'sheet': 946,\n",
              " 'may': 947,\n",
              " 'laser': 948,\n",
              " 'vehicles': 949,\n",
              " 'fund': 950,\n",
              " 'started': 951,\n",
              " 'potential': 952,\n",
              " 'outdoor': 953,\n",
              " 'integration': 954,\n",
              " 'size': 955,\n",
              " 'coaching': 956,\n",
              " 'dry': 957,\n",
              " 'lives': 958,\n",
              " 'explore': 959,\n",
              " 'searching': 960,\n",
              " 'hot': 961,\n",
              " 'core': 962,\n",
              " 'mumbai': 963,\n",
              " 'suite': 964,\n",
              " 'port': 965,\n",
              " 'consumer': 966,\n",
              " 'music': 967,\n",
              " 'without': 968,\n",
              " 'mortgages': 969,\n",
              " 'roofing': 970,\n",
              " 'forward': 971,\n",
              " 'expect': 972,\n",
              " 'residents': 973,\n",
              " 'physical': 974,\n",
              " 'automotive': 975,\n",
              " 'mills': 976,\n",
              " 'history': 977,\n",
              " 'registered': 978,\n",
              " 'apartments': 979,\n",
              " 'privately': 980,\n",
              " 'accredited': 981,\n",
              " 'recycling': 982,\n",
              " 'number': 983,\n",
              " 'landscape': 984,\n",
              " 'track': 985,\n",
              " 'processes': 986,\n",
              " 'minnesota': 987,\n",
              " 'hampshire': 988,\n",
              " 'welding': 989,\n",
              " 'oilfield': 990,\n",
              " 'integrity': 991,\n",
              " 'phoenix': 992,\n",
              " 'rate': 993,\n",
              " 'coatings': 994,\n",
              " 'ship': 995,\n",
              " 'magazine': 996,\n",
              " 'assistance': 997,\n",
              " 'found': 998,\n",
              " 'mining': 999,\n",
              " 'ranking': 1000,\n",
              " ...}"
            ]
          },
          "metadata": {},
          "execution_count": 27
        }
      ]
    },
    {
      "cell_type": "code",
      "source": [
        "sequences = tokenizer.texts_to_sequences(df['meta_description'].apply(str))"
      ],
      "metadata": {
        "id": "1vEwK2bPktze"
      },
      "execution_count": null,
      "outputs": []
    },
    {
      "cell_type": "code",
      "source": [
        "padded_sequences = pad_sequences(sequences, maxlen = 300 , truncating='post')"
      ],
      "metadata": {
        "id": "4bT3QN-tlADT"
      },
      "execution_count": null,
      "outputs": []
    },
    {
      "cell_type": "code",
      "source": [
        "len(padded_sequences)"
      ],
      "metadata": {
        "colab": {
          "base_uri": "https://localhost:8080/"
        },
        "id": "2MOaLfFvlC9b",
        "outputId": "83a50e0d-ccdb-45b9-9170-11a6884060b0"
      },
      "execution_count": null,
      "outputs": [
        {
          "output_type": "execute_result",
          "data": {
            "text/plain": [
              "73974"
            ]
          },
          "metadata": {},
          "execution_count": 30
        }
      ]
    },
    {
      "cell_type": "code",
      "source": [
        "len(padded_sequences[50])"
      ],
      "metadata": {
        "colab": {
          "base_uri": "https://localhost:8080/"
        },
        "id": "2yCrynxqlgEd",
        "outputId": "72edb1a5-5af5-4a82-e332-7c58d31a7e32"
      },
      "execution_count": null,
      "outputs": [
        {
          "output_type": "execute_result",
          "data": {
            "text/plain": [
              "300"
            ]
          },
          "metadata": {},
          "execution_count": 31
        }
      ]
    },
    {
      "cell_type": "code",
      "source": [
        "sil = []\n",
        "kmax = 20\n",
        "\n",
        "# dissimilarity would not be defined for a single cluster, thus, minimum number of clusters should be 2\n",
        "for k in range(2, kmax+1):\n",
        "  kmeans = KMeans(n_clusters = k).fit(padded_sequences)\n",
        "  labels = kmeans.labels_\n",
        "  sil.append(silhouette_score(padded_sequences, labels, metric = 'euclidean'))"
      ],
      "metadata": {
        "id": "Pnfyu7jXljNl"
      },
      "execution_count": null,
      "outputs": []
    },
    {
      "cell_type": "code",
      "source": [
        "xs2 = [i for i in range(1,20)]\n",
        "sns.lineplot(xs2,sil)"
      ],
      "metadata": {
        "colab": {
          "base_uri": "https://localhost:8080/",
          "height": 338
        },
        "id": "T40_kFq-mFMO",
        "outputId": "229be1e2-d97b-4902-9a33-8405af1634b3"
      },
      "execution_count": null,
      "outputs": [
        {
          "output_type": "stream",
          "name": "stderr",
          "text": [
            "/usr/local/lib/python3.7/dist-packages/seaborn/_decorators.py:43: FutureWarning: Pass the following variables as keyword args: x, y. From version 0.12, the only valid positional argument will be `data`, and passing other arguments without an explicit keyword will result in an error or misinterpretation.\n",
            "  FutureWarning\n"
          ]
        },
        {
          "output_type": "execute_result",
          "data": {
            "text/plain": [
              "<matplotlib.axes._subplots.AxesSubplot at 0x7f23da4d2590>"
            ]
          },
          "metadata": {},
          "execution_count": 33
        },
        {
          "output_type": "display_data",
          "data": {
            "text/plain": [
              "<Figure size 432x288 with 1 Axes>"
            ],
            "image/png": "[encoded data removed]"
          },
          "metadata": {
            "needs_background": "light"
          }
        }
      ]
    },
    {
      "cell_type": "code",
      "source": [
        "import gensim"
      ],
      "metadata": {
        "id": "0Pq00A4fn_JI"
      },
      "execution_count": 8,
      "outputs": []
    },
    {
      "cell_type": "code",
      "source": [
        "from gensim.models import word2vec\n",
        "from gensim.models import KeyedVectors"
      ],
      "metadata": {
        "id": "ub4kpakRPx2f"
      },
      "execution_count": 9,
      "outputs": []
    },
    {
      "cell_type": "code",
      "source": [
        "i = 0\n",
        "filtered_list = []\n",
        "for sent in df['meta_description'].apply(str):\n",
        "    filtered_data = []\n",
        "    # sent = removehtml(sent)\n",
        "    for word in sent.split():\n",
        "        for words in word.split():\n",
        "            if(words.isalpha()):\n",
        "                filtered_data.append(words)\n",
        "            else:\n",
        "                continue\n",
        "                \n",
        "    filtered_list.append(filtered_data)"
      ],
      "metadata": {
        "id": "H00m9G5LP-xb"
      },
      "execution_count": 10,
      "outputs": []
    },
    {
      "cell_type": "code",
      "source": [
        "len(filtered_list[0])"
      ],
      "metadata": {
        "colab": {
          "base_uri": "https://localhost:8080/"
        },
        "id": "SUbraEepQjmk",
        "outputId": "584bbc38-a927-4654-f343-6ee67616a318"
      },
      "execution_count": 11,
      "outputs": [
        {
          "output_type": "execute_result",
          "data": {
            "text/plain": [
              "15"
            ]
          },
          "metadata": {},
          "execution_count": 11
        }
      ]
    },
    {
      "cell_type": "code",
      "source": [
        "filtered_list[0]"
      ],
      "metadata": {
        "colab": {
          "base_uri": "https://localhost:8080/"
        },
        "id": "rqQ--tBxSpEt",
        "outputId": "1c4ff079-7984-4440-f6f9-d423fab0dabf"
      },
      "execution_count": 11,
      "outputs": [
        {
          "output_type": "execute_result",
          "data": {
            "text/plain": [
              "['providing',\n",
              " 'quality',\n",
              " 'reliable',\n",
              " 'full',\n",
              " 'service',\n",
              " 'residential',\n",
              " 'commercial',\n",
              " 'electrical',\n",
              " 'contractors',\n",
              " 'service',\n",
              " 'vero',\n",
              " 'beach',\n",
              " 'indian',\n",
              " 'river',\n",
              " 'county']"
            ]
          },
          "metadata": {},
          "execution_count": 11
        }
      ]
    },
    {
      "cell_type": "code",
      "source": [
        "w2v = gensim.models.Word2Vec( filtered_list ,min_count = 5,size = 300)\n"
      ],
      "metadata": {
        "id": "6z2Fu4GfSxay"
      },
      "execution_count": 12,
      "outputs": []
    },
    {
      "cell_type": "code",
      "source": [
        "avrg_vector = []\n",
        "for sent in filtered_list:\n",
        "    word_vector=np.zeros(300)\n",
        "    count = 0\n",
        "    for words in sent:\n",
        "        try:\n",
        "            vec = w2v.wv[words]\n",
        "            word_vector += vec\n",
        "            count +=1\n",
        "        except:\n",
        "            pass\n",
        "    word_vector /= count\n",
        "    avrg_vector.append(word_vector)   \n"
      ],
      "metadata": {
        "colab": {
          "base_uri": "https://localhost:8080/"
        },
        "id": "YfQruPosS3cJ",
        "outputId": "bb9cdb6c-88cd-4a14-a251-b92444f4ac7e"
      },
      "execution_count": null,
      "outputs": [
        {
          "output_type": "stream",
          "name": "stderr",
          "text": [
            "/usr/local/lib/python3.7/dist-packages/ipykernel_launcher.py:12: RuntimeWarning: invalid value encountered in true_divide\n",
            "  if sys.path[0] == '':\n"
          ]
        }
      ]
    },
    {
      "cell_type": "code",
      "source": [
        "df2 = pd.DataFrame(avrg_vector)"
      ],
      "metadata": {
        "id": "JbpRdI7agOCq"
      },
      "execution_count": null,
      "outputs": []
    },
    {
      "cell_type": "code",
      "source": [
        "df2.shape"
      ],
      "metadata": {
        "colab": {
          "base_uri": "https://localhost:8080/"
        },
        "id": "inZRyyjEgbxk",
        "outputId": "660c981e-dce8-4db3-b01f-a2521b86ef81"
      },
      "execution_count": null,
      "outputs": [
        {
          "output_type": "execute_result",
          "data": {
            "text/plain": [
              "(73974, 300)"
            ]
          },
          "metadata": {},
          "execution_count": 20
        }
      ]
    },
    {
      "cell_type": "code",
      "source": [
        "df2.info()"
      ],
      "metadata": {
        "colab": {
          "base_uri": "https://localhost:8080/"
        },
        "id": "jGRunFyNgmyI",
        "outputId": "a565af76-805e-4f71-b89c-3a1981817656"
      },
      "execution_count": null,
      "outputs": [
        {
          "output_type": "stream",
          "name": "stdout",
          "text": [
            "<class 'pandas.core.frame.DataFrame'>\n",
            "RangeIndex: 73974 entries, 0 to 73973\n",
            "Columns: 300 entries, 0 to 299\n",
            "dtypes: float64(300)\n",
            "memory usage: 169.3 MB\n"
          ]
        }
      ]
    },
    {
      "cell_type": "code",
      "source": [
        "df3 = df2.fillna(0)"
      ],
      "metadata": {
        "id": "Kxj2-Yr_ie4E"
      },
      "execution_count": null,
      "outputs": []
    },
    {
      "cell_type": "code",
      "source": [
        "sil = []\n",
        "kmax = 20\n",
        "\n",
        "# dissimilarity would not be defined for a single cluster, thus, minimum number of clusters should be 2\n",
        "for k in range(2, kmax+1):\n",
        "  kmeans = KMeans(n_clusters = k).fit(df3)\n",
        "  labels = kmeans.labels_\n",
        "  sil.append(silhouette_score(df3, labels, metric = 'euclidean'))"
      ],
      "metadata": {
        "id": "Ui6bP8jRTE_i"
      },
      "execution_count": null,
      "outputs": []
    },
    {
      "cell_type": "code",
      "source": [
        "xs2 = [i for i in range(2,21)]\n",
        "sns.lineplot(xs2,sil)"
      ],
      "metadata": {
        "colab": {
          "base_uri": "https://localhost:8080/",
          "height": 337
        },
        "id": "KiiofyVFTnVY",
        "outputId": "337548e3-2421-44d4-f0ed-60ed16e030d9"
      },
      "execution_count": null,
      "outputs": [
        {
          "output_type": "stream",
          "name": "stderr",
          "text": [
            "/usr/local/lib/python3.7/dist-packages/seaborn/_decorators.py:43: FutureWarning: Pass the following variables as keyword args: x, y. From version 0.12, the only valid positional argument will be `data`, and passing other arguments without an explicit keyword will result in an error or misinterpretation.\n",
            "  FutureWarning\n"
          ]
        },
        {
          "output_type": "execute_result",
          "data": {
            "text/plain": [
              "<matplotlib.axes._subplots.AxesSubplot at 0x7fb83bd13e10>"
            ]
          },
          "metadata": {},
          "execution_count": 25
        },
        {
          "output_type": "display_data",
          "data": {
            "text/plain": [
              "<Figure size 432x288 with 1 Axes>"
            ],
            "image/png": "[encoded data removed]"
          },
          "metadata": {
            "needs_background": "light"
          }
        }
      ]
    },
    {
      "cell_type": "code",
      "source": [
        "from sklearn.feature_extraction.text import TfidfVectorizer\n",
        "count_vector = TfidfVectorizer(ngram_range = (1,2))"
      ],
      "metadata": {
        "id": "A_-biR99xMD4"
      },
      "execution_count": 13,
      "outputs": []
    },
    {
      "cell_type": "code",
      "source": [
        "df['meta_keywords'] = df['meta_keywords'].fillna('')\n",
        "df['meta_description'] = df['meta_description'].fillna('')"
      ],
      "metadata": {
        "id": "ZFj7NWc92ni2"
      },
      "execution_count": 14,
      "outputs": []
    },
    {
      "cell_type": "code",
      "source": [
        "tfidf_vector = count_vector.fit_transform(df['meta_description'].values)"
      ],
      "metadata": {
        "id": "_0MQQneo14oX"
      },
      "execution_count": 15,
      "outputs": []
    },
    {
      "cell_type": "code",
      "source": [
        "features =count_vector.get_feature_names()"
      ],
      "metadata": {
        "colab": {
          "base_uri": "https://localhost:8080/"
        },
        "id": "RP0WSYYU3kUE",
        "outputId": "5774146b-a0fc-45c4-bad6-f412f74f780f"
      },
      "execution_count": 16,
      "outputs": [
        {
          "output_type": "stream",
          "name": "stderr",
          "text": [
            "/usr/local/lib/python3.7/dist-packages/sklearn/utils/deprecation.py:87: FutureWarning: Function get_feature_names is deprecated; get_feature_names is deprecated in 1.0 and will be removed in 1.2. Please use get_feature_names_out instead.\n",
            "  warnings.warn(msg, category=FutureWarning)\n"
          ]
        }
      ]
    },
    {
      "cell_type": "code",
      "source": [
        ""
      ],
      "metadata": {
        "id": "t4FnCbws5LTr"
      },
      "execution_count": null,
      "outputs": []
    },
    {
      "cell_type": "code",
      "source": [
        "tfidf_w2v = []\n",
        "row = 0\n",
        "for sent in filtered_list:\n",
        "    vector = np.zeros(300)\n",
        "    summation = 0\n",
        "    for word in sent:\n",
        "        try:\n",
        "            tf = tfidf_vector[row,features.index(word)]\n",
        "            # print(tf)\n",
        "            value = tf * w2v.wv[word]\n",
        "            vector += value\n",
        "            summation += tf\n",
        "        except:\n",
        "            pass\n",
        "    vector = vector/summation\n",
        "    tfidf_w2v.append(vector)\n",
        "    row +=1"
      ],
      "metadata": {
        "colab": {
          "base_uri": "https://localhost:8080/"
        },
        "id": "MJVPpV442ch1",
        "outputId": "da72e3ba-31fe-4311-e185-2bffaa947b39"
      },
      "execution_count": null,
      "outputs": [
        {
          "output_type": "stream",
          "name": "stderr",
          "text": [
            "/usr/local/lib/python3.7/dist-packages/ipykernel_launcher.py:15: RuntimeWarning: invalid value encountered in true_divide\n",
            "  from ipykernel import kernelapp as app\n"
          ]
        }
      ]
    },
    {
      "cell_type": "code",
      "source": [
        ""
      ],
      "metadata": {
        "id": "B_sctskh3pRW"
      },
      "execution_count": null,
      "outputs": []
    }
  ]
}